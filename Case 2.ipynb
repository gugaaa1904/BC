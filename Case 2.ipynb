{
 "cells": [
  {
   "cell_type": "markdown",
   "metadata": {},
   "source": [
    "# Case 2: Siemens AI-Driven Sales Forecasting\n",
    "\n",
    "## Overview\n",
    "This case study involves building a monthly sales forecasting model using real sales data from Siemens’ Smart Infrastructure Division in Germany. The objective is to apply machine learning techniques to predict future sales based on historical data and macro-economic indicators.\n",
    "\n",
    "## Business Problem\n",
    "- Manual sales forecasting is time-consuming and relies on human judgment.  \n",
    "- Data is scattered across multiple sources, making it difficult to derive insights.  \n",
    "- Inaccurate forecasts lead to financial losses, such as inefficient inventory management and unsatisfied customers.\n",
    "\n",
    "## Objective\n",
    "- Develop an AI-driven predictive model to automate the forecasting process.  \n",
    "- Evaluate the model using Root Mean Squared Error (RMSE).  \n",
    "- Submit predictions for May 2022 - February 2023 in a structured CSV format.\n",
    "\n",
    "\n",
    "---\n",
    "\n",
    "**This notebook was developed by:**\n",
    "- João Venichand - 20211644  \n",
    "- Gonçalo Custódio - 20211643  \n",
    "- Diogo Correia - 20211586  \n",
    "- Duarte Emanuel - 20240564\n"
   ]
  },
  {
   "cell_type": "markdown",
   "metadata": {},
   "source": [
    "### 1. Import the Libraries\n"
   ]
  },
  {
   "cell_type": "code",
   "execution_count": null,
   "metadata": {},
   "outputs": [],
   "source": [
    "import calendar\n",
    "import pandas as pd\n",
    "import numpy as np\n",
    "import matplotlib.pyplot as plt\n",
    "import seaborn as sns\n",
    "from scipy.stats import zscore, boxcox\n",
    "import statsmodels.api as sm\n",
    "from statsmodels.tsa.statespace.sarimax import SARIMAX\n",
    "from sklearn.model_selection import train_test_split, TimeSeriesSplit\n",
    "from sklearn.metrics import mean_squared_error\n",
    "from sklearn.preprocessing import StandardScaler, MinMaxScaler\n",
    "from sklearn.ensemble import RandomForestRegressor\n",
    "from xgboost import XGBRegressor\n",
    "from prophet import Prophet\n",
    "from sklearn.model_selection import GridSearchCV\n",
    "\n",
    "#warnings.simplefilter(action='ignore', category=FutureWarning)"
   ]
  },
  {
   "cell_type": "markdown",
   "metadata": {},
   "source": [
    "### 2. Load Datasets"
   ]
  },
  {
   "cell_type": "markdown",
   "metadata": {},
   "source": [
    "Import Sales Data"
   ]
  },
  {
   "cell_type": "code",
   "execution_count": null,
   "metadata": {},
   "outputs": [],
   "source": [
    "sales_data = pd.read_csv(\"sales_data.csv\")\n",
    "sales_data.head(5)"
   ]
  },
  {
   "cell_type": "markdown",
   "metadata": {},
   "source": [
    "Import Market Data"
   ]
  },
  {
   "cell_type": "code",
   "execution_count": null,
   "metadata": {},
   "outputs": [],
   "source": [
    "market_data = pd.read_excel(\"market_data.xlsx\", header=None)\n",
    "market_data.head(5)"
   ]
  },
  {
   "cell_type": "markdown",
   "metadata": {},
   "source": [
    "### 3. Sales Dataset Analysis"
   ]
  },
  {
   "cell_type": "markdown",
   "metadata": {},
   "source": [
    "Check for missing values"
   ]
  },
  {
   "cell_type": "code",
   "execution_count": null,
   "metadata": {},
   "outputs": [],
   "source": [
    "missing_values = sales_data[\"Sales_EUR\"].isna().sum()\n",
    "missing_values"
   ]
  },
  {
   "cell_type": "markdown",
   "metadata": {},
   "source": [
    "Count occurrences of 0 and non-zero Sales"
   ]
  },
  {
   "cell_type": "code",
   "execution_count": null,
   "metadata": {},
   "outputs": [],
   "source": [
    "zero_count = (sales_data[\"Sales_EUR\"] == 0).sum()\n",
    "non_zero_count = (sales_data[\"Sales_EUR\"] != 0).sum()\n",
    "\n",
    "print(f\"Zero Sales Count: {zero_count}\")\n",
    "print(f\"Non-Zero Sales Count: {non_zero_count}\")"
   ]
  },
  {
   "cell_type": "markdown",
   "metadata": {},
   "source": [
    "Sales Distribution by Product (excluding 0 sales values)"
   ]
  },
  {
   "cell_type": "code",
   "execution_count": null,
   "metadata": {},
   "outputs": [],
   "source": [
    "\"\"\"filtered_sales = sales_data[sales_data[\"Sales_EUR\"] != 0]\n",
    "unique_products = filtered_sales[\"Mapped_GCK\"].unique()\n",
    "\n",
    "for product in unique_products:\n",
    "    product_data = filtered_sales[filtered_sales[\"Mapped_GCK\"] == product][\"Sales_EUR\"]\n",
    "    \n",
    "    plt.figure(figsize=(8, 5))\n",
    "    plt.boxplot(product_data, vert=False)\n",
    "    plt.title(f\"Sales Distribution for Product {product} (excluding 0 sales)\")\n",
    "    plt.xlabel(\"Sales_EUR\")\n",
    "    plt.grid(True)\n",
    "    plt.show()\"\"\""
   ]
  },
  {
   "cell_type": "markdown",
   "metadata": {},
   "source": [
    "Check for Duplicate Dates and Their Frequencies"
   ]
  },
  {
   "cell_type": "code",
   "execution_count": null,
   "metadata": {},
   "outputs": [],
   "source": [
    "sales_data[\"DATE\"] = pd.to_datetime(sales_data[\"DATE\"], format=\"%d.%m.%Y\")\n",
    "duplicate_dates = sales_data[\"DATE\"].duplicated().sum()\n",
    "date_counts = sales_data[\"DATE\"].value_counts().sort_index()\n",
    "\n",
    "print(f\"Number of duplicate dates: {duplicate_dates}\")\n",
    "print(\"\\nFirst 10 occurrences of dates:\")\n",
    "print(date_counts.head(10))"
   ]
  },
  {
   "cell_type": "markdown",
   "metadata": {},
   "source": [
    "Quantity of Different Products"
   ]
  },
  {
   "cell_type": "code",
   "execution_count": null,
   "metadata": {},
   "outputs": [],
   "source": [
    "unique_values = sales_data[\"Mapped_GCK\"].unique()\n",
    "\n",
    "num_unique_values = len(unique_values)\n",
    "\n",
    "print(f\"Number of unique values in Mapped_GCK: {num_unique_values}\")\n",
    "print(\"Unique values:\")\n",
    "print(unique_values)"
   ]
  },
  {
   "cell_type": "markdown",
   "metadata": {},
   "source": [
    "Distribution of Values by Product"
   ]
  },
  {
   "cell_type": "code",
   "execution_count": null,
   "metadata": {},
   "outputs": [],
   "source": [
    "mapped_gck_counts = sales_data[\"Mapped_GCK\"].value_counts()\n",
    "print(\"Count of each unique value in Mapped_GCK:\")\n",
    "print(mapped_gck_counts)\n",
    "\n",
    "total_rows = len(sales_data)\n",
    "print(f\"\\nTotal number of rows in the dataset: {total_rows}\")"
   ]
  },
  {
   "cell_type": "markdown",
   "metadata": {},
   "source": [
    "Check for Duplicates "
   ]
  },
  {
   "cell_type": "code",
   "execution_count": null,
   "metadata": {},
   "outputs": [],
   "source": [
    "duplicates_by_gck = sales_data.groupby(\"Mapped_GCK\")[\"DATE\"].apply(lambda x: x.duplicated().sum())\n",
    "\n",
    "print(\"Duplicate DATEs per Mapped_GCK:\")\n",
    "print(duplicates_by_gck)"
   ]
  },
  {
   "cell_type": "markdown",
   "metadata": {},
   "source": [
    "Analyze Average Sales by Weekday, Month, and Year"
   ]
  },
  {
   "cell_type": "code",
   "execution_count": null,
   "metadata": {},
   "outputs": [],
   "source": [
    "sales_data[\"Weekday\"] = sales_data[\"DATE\"].dt.day_name()\n",
    "sales_data[\"Year\"] = sales_data[\"DATE\"].dt.year\n",
    "sales_data[\"Month\"] = sales_data[\"DATE\"].dt.month\n",
    "weekday_sales = sales_data.groupby(\"Weekday\")[\"Sales_EUR\"].mean().sort_values()\n",
    "month_sales = sales_data.groupby(\"Month\")[\"Sales_EUR\"].mean().sort_values()\n",
    "year_sales = sales_data.groupby(\"Year\")[\"Sales_EUR\"].mean().sort_values()"
   ]
  },
  {
   "cell_type": "code",
   "execution_count": null,
   "metadata": {},
   "outputs": [],
   "source": [
    "print(weekday_sales)"
   ]
  },
  {
   "cell_type": "code",
   "execution_count": null,
   "metadata": {},
   "outputs": [],
   "source": [
    "print(month_sales)"
   ]
  },
  {
   "cell_type": "code",
   "execution_count": null,
   "metadata": {},
   "outputs": [],
   "source": [
    "print(year_sales)"
   ]
  },
  {
   "cell_type": "markdown",
   "metadata": {},
   "source": [
    "Visualize Average Sales per Product"
   ]
  },
  {
   "cell_type": "code",
   "execution_count": null,
   "metadata": {},
   "outputs": [],
   "source": [
    "mapped_gck_means = sales_data.groupby(\"Mapped_GCK\")[\"Sales_EUR\"].mean().sort_values()\n",
    "\n",
    "plt.figure(figsize=(12, 6))\n",
    "plt.bar(mapped_gck_means.index, mapped_gck_means.values)\n",
    "plt.xticks(rotation=90)\n",
    "plt.xlabel(\"Mapped_GCK (Product)\")\n",
    "plt.ylabel(\"Average Sales\")\n",
    "plt.title(\"Mean Sales per Mapped_GCK\")\n",
    "plt.grid(True)\n",
    "plt.show()"
   ]
  },
  {
   "cell_type": "markdown",
   "metadata": {},
   "source": [
    "Mean Sales per Product"
   ]
  },
  {
   "cell_type": "code",
   "execution_count": null,
   "metadata": {},
   "outputs": [],
   "source": [
    "mapped_gck_means = sales_data.groupby(\"Mapped_GCK\")[\"Sales_EUR\"].mean().sort_values()\n",
    "\n",
    "print(\"Mean Sales per Product:\")\n",
    "print(mapped_gck_means)"
   ]
  },
  {
   "cell_type": "markdown",
   "metadata": {},
   "source": [
    "Check the Sales_Data"
   ]
  },
  {
   "cell_type": "code",
   "execution_count": null,
   "metadata": {},
   "outputs": [],
   "source": [
    "sales_data.head(5)"
   ]
  },
  {
   "cell_type": "markdown",
   "metadata": {},
   "source": [
    "### 4. Market Data Analysis"
   ]
  },
  {
   "cell_type": "markdown",
   "metadata": {},
   "source": [
    " Preview first rows of Market Data"
   ]
  },
  {
   "cell_type": "code",
   "execution_count": null,
   "metadata": {},
   "outputs": [],
   "source": [
    "market_data.head(5)"
   ]
  },
  {
   "cell_type": "markdown",
   "metadata": {},
   "source": [
    "Clean and Reformat Market Data Header"
   ]
  },
  {
   "cell_type": "code",
   "execution_count": null,
   "metadata": {},
   "outputs": [],
   "source": [
    "market_data = market_data.drop(index=2).reset_index(drop=True)\n",
    "\n",
    "new_columns = [\n",
    "    f\"{market_data.iloc[0, i]} - {market_data.iloc[1, i]}\" if pd.notna(market_data.iloc[0, i]) \n",
    "    else market_data.iloc[1, i] \n",
    "    for i in range(market_data.shape[1])\n",
    "]\n",
    "\n",
    "market_data.columns = new_columns\n",
    "market_data = market_data.iloc[2:].reset_index(drop=True)\n",
    "market_data = market_data.rename(columns={market_data.columns[0]: \"Date\"})"
   ]
  },
  {
   "cell_type": "markdown",
   "metadata": {},
   "source": [
    "Extract Year and Month from Date Column"
   ]
  },
  {
   "cell_type": "code",
   "execution_count": null,
   "metadata": {},
   "outputs": [],
   "source": [
    "market_data[\"Date\"] = market_data[\"Date\"].str.strip()\n",
    "market_data[\"Year\"] = market_data[\"Date\"].str[:4].astype(int)\n",
    "market_data[\"Month\"] = market_data[\"Date\"].str[5:].astype(int)"
   ]
  },
  {
   "cell_type": "markdown",
   "metadata": {},
   "source": [
    "Validate Year and Month Extraction"
   ]
  },
  {
   "cell_type": "code",
   "execution_count": null,
   "metadata": {},
   "outputs": [],
   "source": [
    "year_counts = market_data[\"Year\"].value_counts().sort_index()\n",
    "month_counts = market_data[\"Month\"].value_counts().sort_index()\n",
    "\n",
    "print(\"Unique Years and Counts:\")\n",
    "print(year_counts)\n",
    "\n",
    "print(\"\\nUnique Months and Counts:\")\n",
    "print(month_counts)"
   ]
  },
  {
   "cell_type": "markdown",
   "metadata": {},
   "source": [
    "### 5. Feature Selection"
   ]
  },
  {
   "cell_type": "markdown",
   "metadata": {},
   "source": [
    "#### Selection of Key Macroeconomic Variables\n",
    "\n",
    "Based on our analysis and discretion, we believe that the following variables are the most important for predicting Siemens' monthly sales . These variables were selected to balance **demand-side factors, cost influences, and production constraints**, while following the expert advice of using **fewer but high-value features**.\n",
    "\n",
    "#### **Production and Shipment Indices**\n",
    "\n",
    "- **China - Production Index Machinery & Electricals**  and **United States - Production Index Machinery & Electricals**  \n",
    "   Measures industrial production in Siemens’ key client countries. Higher values may reflect increased domestic demand for Siemens-related goods.\n",
    "\n",
    "- **China - Shipments Index Machinery & Electricals** and **United States - Shipments Index Machinery & Electricals**  \n",
    "   Tracks shipment volumes in the machinery and electrical sector. Growth suggests stronger export performance and external demand.\n",
    "\n",
    "- **Germany - Production Index Machinery & Electricals** and **Germany - Shipments Index Machinery & Electricals**  \n",
    "   Reflect local industrial and distribution activity. Especially relevant as the sales data comes from a German branch.\n",
    "\n",
    "\n",
    "#### **Producer Prices (Cost of Siemens' Industrial Goods)**\n",
    "\n",
    "- **Producer Prices - United States: Electrical Equipment**  \n",
    "   Reflects how costly electrical equipment is for Siemens’ U.S.-based clients. Higher prices may reduce purchasing power; lower prices could support demand.\n",
    "\n",
    "- **Producer Prices - China: Electrical Equipment**  \n",
    "   Indicates equipment costs in China, potentially affecting Siemens’ production expenses and pricing strategies.\n",
    "\n",
    "- **Producer Prices - Germany: Electrical Equipment**  \n",
    "   Relevant to local operations. Fluctuations in German producer prices may influence both profitability and sales performance, since data is from a German branch.\n",
    "\n",
    "\n",
    "#### **Raw Material and Energy Costs**\n",
    "- **World: Price of Base Metals**  \n",
    "   Siemens’ industrial products depend on metals like steel and aluminum. Higher prices increase production costs.\n",
    "\n",
    "- **World: Price of Energy**  \n",
    "   Rising energy costs elevate manufacturing expenses, potentially influencing Siemens’ pricing strategies.\n",
    "\n",
    "- **World: Price of Crude Oil, Average**  \n",
    "   Affects transportation and supply chain costs. Significant increases may reduce industrial investment and weigh on Siemens’ sales.\n",
    "\n",
    "- **World: Price of Copper**  \n",
    "   A key input in electrical equipment manufacturing.\n",
    "\n",
    "These selected variables cover both **demand-side** factors (production and shipments), **cost structures** (producer prices), and **macro-level influences** (raw material and energy prices). This approach ensures a balanced, minimal, and high-impact feature selection.\n"
   ]
  },
  {
   "cell_type": "markdown",
   "metadata": {},
   "source": [
    "Correlation Analysis of Selected Macroeconomic Features"
   ]
  },
  {
   "cell_type": "code",
   "execution_count": null,
   "metadata": {},
   "outputs": [],
   "source": [
    "macro_features = [\n",
    "    \"China - Production Index Machinery & Electricals\",\n",
    "    \"United States - Production Index Machinery & Electricals\",\n",
    "    \"Germany - Production Index Machinery & Electricals\",\n",
    "    \"China - Shipments Index Machinery & Electricals\",\n",
    "    \"United States - Shipments Index Machinery & Electricals\",\n",
    "    \"Germany - Shipments Index Machinery & Electricals\",\n",
    "    \"Producer Prices - United States: Electrical equipment\",\n",
    "    \"Producer Prices - China: Electrical equipment\",\n",
    "    \"Producer Prices - Germany: Electrical equipment\",\n",
    "    \"World: Price of Base Metals\",\n",
    "    \"World: Price of Energy\",\n",
    "    \"World: Price of Crude oil, average\",\n",
    "    \"World: Price of Copper\",\n",
    "    \"World: Price of Metals  & Minerals\",\n",
    "    \"World: Price of Natural gas index\"\n",
    "]\n",
    "\n",
    "correlation_matrix = market_data[macro_features].corr()\n",
    "\n",
    "plt.figure(figsize=(10, 7))\n",
    "sns.heatmap(correlation_matrix, annot=True, cmap=\"coolwarm\", fmt=\".2f\", linewidths=0.5)\n",
    "plt.title(\"Correlation Heatmap of Selected Macroeconomic Features\")\n",
    "plt.xticks(rotation=90)\n",
    "plt.yticks(rotation=0)\n",
    "plt.show()"
   ]
  },
  {
   "cell_type": "markdown",
   "metadata": {},
   "source": [
    "### Feature Selection Strategy\n",
    "\n",
    "#### **Consolidating Redundant Features**\n",
    "##### **China - Production Index Machinery & Electricals**\n",
    "This variable exhibits **very high correlation** with multiple other features:\n",
    "- **1.00** with `China - Shipments Index Machinery & Electricals`\n",
    "- **0.74** with `United States - Shipments Index Machinery & Electricals`\n",
    "- **0.73** with `Germany - Shipments Index Machinery & Electricals`\n",
    "- **0.89** with `Producer Prices - United States: Electrical Equipment`\n",
    "- **0.95** with `Producer Prices - Germany: Electrical Equipment`\n",
    "\n",
    "Given this extreme correlation, we will **retain \"China - Production Index Machinery & Electricals\" as a representative variable**, allowing it to encapsulate the information from these **six** highly correlated features. \n",
    "\n",
    "\n",
    "##### **Aggregating World Price Features**\n",
    "- **World: Price of Base Metals**  \n",
    "- **World: Price of Energy**  \n",
    "- **World: Price of Crude Oil, Average**  \n",
    "- **World: Price of Copper**  \n",
    "\n",
    "Our decision to merge these indicators was based on their **high correlation** and to to preserve shared economic influence while reducing redundancy.\n",
    "\n",
    "\n",
    "#### **Removing Weakly Correlated Features**\n",
    "The remaining three features:\n",
    "- **Producer Prices - China: Electrical Equipment**\n",
    "- **United States - Production Index Machinery & Electricals**\n",
    "- **Germany - Production Index Machinery & Electricals**\n",
    "\n",
    "show some moderate correlations. Their effects will already be reflected in the merged features, so we **exclude them** to keep the model clean and efficient.\n",
    "\n"
   ]
  },
  {
   "cell_type": "markdown",
   "metadata": {},
   "source": [
    "Aggregated the World Price Features"
   ]
  },
  {
   "cell_type": "code",
   "execution_count": null,
   "metadata": {},
   "outputs": [],
   "source": [
    "market_data[\"Key_Materials_Price_Index\"] = (\n",
    "    market_data[\"World: Price of Base Metals\"] +\n",
    "    market_data[\"World: Price of Energy\"] +\n",
    "    market_data[\"World: Price of Crude oil, average\"] +\n",
    "    market_data[\"World: Price of Copper\"] +\n",
    "    market_data[\"World: Price of Metals  & Minerals\"] +\n",
    "    market_data[\"World: Price of Natural gas index\"] +\n",
    "    market_data[\"Producer Prices - Germany: Electrical equipment\"]\n",
    ") / 7"
   ]
  },
  {
   "cell_type": "markdown",
   "metadata": {},
   "source": [
    "### 6. Remove Outliers"
   ]
  },
  {
   "cell_type": "markdown",
   "metadata": {},
   "source": [
    "Monthly Sales Aggregation by Product Group"
   ]
  },
  {
   "cell_type": "code",
   "execution_count": null,
   "metadata": {},
   "outputs": [],
   "source": [
    "monthly_sales_data = sales_data.groupby([\"Mapped_GCK\", \"Year\", \"Month\"])[\"Sales_EUR\"].sum().reset_index()\n",
    "\n",
    "print(monthly_sales_data)"
   ]
  },
  {
   "cell_type": "markdown",
   "metadata": {},
   "source": [
    "Distribution of Monthly Sales by Product"
   ]
  },
  {
   "cell_type": "code",
   "execution_count": null,
   "metadata": {},
   "outputs": [],
   "source": [
    "\"\"\"unique_products = monthly_sales_data[\"Mapped_GCK\"].unique()\n",
    "\n",
    "for product in unique_products:\n",
    "    plt.figure(figsize=(8, 4))\n",
    "    plt.hist(\n",
    "        monthly_sales_data[monthly_sales_data[\"Mapped_GCK\"] == product][\"Sales_EUR\"],\n",
    "        bins=50, edgecolor=\"black\"\n",
    "    )\n",
    "    plt.title(f\"Distribution of Sales_EUR for Product {product}\")\n",
    "    plt.xlabel(\"Sales_EUR\")\n",
    "    plt.ylabel(\"Frequency\")\n",
    "    plt.show()\"\"\""
   ]
  },
  {
   "cell_type": "markdown",
   "metadata": {},
   "source": [
    "Check the Negative Values in Sales_EUR"
   ]
  },
  {
   "cell_type": "code",
   "execution_count": null,
   "metadata": {},
   "outputs": [],
   "source": [
    "negative_values = monthly_sales_data[monthly_sales_data[\"Sales_EUR\"] < 0]\n",
    "print(negative_values)"
   ]
  },
  {
   "cell_type": "markdown",
   "metadata": {},
   "source": [
    "Set Negative Sales Values to 0"
   ]
  },
  {
   "cell_type": "code",
   "execution_count": null,
   "metadata": {},
   "outputs": [],
   "source": [
    "monthly_sales_data[\"Sales_EUR\"] = monthly_sales_data[\"Sales_EUR\"].clip(lower=0)"
   ]
  },
  {
   "cell_type": "markdown",
   "metadata": {},
   "source": [
    "Apply Log Transformation"
   ]
  },
  {
   "cell_type": "code",
   "execution_count": null,
   "metadata": {},
   "outputs": [],
   "source": [
    "epsilon = abs(monthly_sales_data[\"Sales_EUR\"].min()) + 1 \n",
    "monthly_sales_data[\"Sales_EUR_Log\"] = np.log1p(monthly_sales_data[\"Sales_EUR\"] + epsilon)\n",
    "monthly_sales_data.head()"
   ]
  },
  {
   "cell_type": "code",
   "execution_count": null,
   "metadata": {},
   "outputs": [],
   "source": [
    "plt.hist(monthly_sales_data[\"Sales_EUR_Log\"], bins=30, edgecolor=\"black\")\n",
    "plt.title(\"Distribution of Sales_EUR after Log Transform\")\n",
    "plt.xlabel(\"Sales_EUR_Log\")\n",
    "plt.ylabel(\"Frequency\")\n",
    "plt.show()"
   ]
  },
  {
   "cell_type": "markdown",
   "metadata": {},
   "source": [
    "Describe the Sales_EUR_Log"
   ]
  },
  {
   "cell_type": "code",
   "execution_count": null,
   "metadata": {},
   "outputs": [],
   "source": [
    "print(monthly_sales_data[\"Sales_EUR_Log\"].describe())"
   ]
  },
  {
   "cell_type": "markdown",
   "metadata": {},
   "source": [
    "Box-Cox Transformation"
   ]
  },
  {
   "cell_type": "code",
   "execution_count": null,
   "metadata": {},
   "outputs": [],
   "source": [
    "monthly_sales_data[\"Sales_EUR_Shifted\"] = monthly_sales_data[\"Sales_EUR\"] + abs(monthly_sales_data[\"Sales_EUR\"].min()) + 1\n",
    "monthly_sales_data[\"Sales_EUR_BoxCox\"], lambda_ = boxcox(monthly_sales_data[\"Sales_EUR_Shifted\"])\n",
    "\n",
    "print(f\"Optimal Box-Cox Lambda: {lambda_}\")"
   ]
  },
  {
   "cell_type": "markdown",
   "metadata": {},
   "source": [
    "To reduce the impact of outliers and stabilize variance in Sales_EUR, we tested a Box-Cox transformation. The resulting lambda was 0.066, which is very close to zero and this confirms that a log transformation is already appropriate for our data, as Box-Cox behaves like log(x) when λ ≈ 0.\n",
    "\n",
    "We therefore **kept the log transformation** as our chosen method for normalizing sales values."
   ]
  },
  {
   "cell_type": "markdown",
   "metadata": {},
   "source": [
    "Monthly Sales Trend for Product"
   ]
  },
  {
   "cell_type": "code",
   "execution_count": null,
   "metadata": {},
   "outputs": [],
   "source": [
    "\"\"\"monthly_sales_data[\"Date\"] = pd.to_datetime(monthly_sales_data[\"Year\"].astype(str) + \"-\" + monthly_sales_data[\"Month\"].astype(str) + \"-01\")\n",
    "unique_products = monthly_sales_data[\"Mapped_GCK\"].unique()\n",
    "\n",
    "for product in unique_products:\n",
    "    product_data = monthly_sales_data[monthly_sales_data[\"Mapped_GCK\"] == product]\n",
    "    \n",
    "    plt.figure(figsize=(10, 5))\n",
    "    plt.plot(product_data[\"Date\"], product_data[\"Sales_EUR\"], marker=\"o\", linestyle=\"-\")\n",
    "    plt.title(f\"Monthly Sales Trend for Product {product}\")\n",
    "    plt.xlabel(\"Month\")\n",
    "    plt.ylabel(\"Total Sales (EUR)\")\n",
    "    plt.xticks(rotation=45)\n",
    "    plt.grid(True)\n",
    "    plt.show()\n",
    "\n",
    "monthly_sales_data = monthly_sales_data.drop(columns=[\"Date\"])\"\"\""
   ]
  },
  {
   "cell_type": "markdown",
   "metadata": {},
   "source": [
    "### 7. Building the Final Dataset"
   ]
  },
  {
   "cell_type": "markdown",
   "metadata": {},
   "source": [
    "Merging Data to Create Final Dataset"
   ]
  },
  {
   "cell_type": "code",
   "execution_count": null,
   "metadata": {},
   "outputs": [],
   "source": [
    "print(market_data.columns.tolist())"
   ]
  },
  {
   "cell_type": "code",
   "execution_count": null,
   "metadata": {},
   "outputs": [],
   "source": [
    "market_selected = market_data[\n",
    "    [\"Year\", \"Month\", \"Key_Materials_Price_Index\",\n",
    "     \"China - Production Index Machinery & Electricals\",\n",
    "     \"United States - Production Index Machinery & Electricals\",\n",
    "     \"Germany - Production Index Machinery & Electricals\",\n",
    "     \"Europe - Production Index Machinery & Electricals\",\n",
    "     \"China - Shipments Index Machinery & Electricals\",\n",
    "     \"United States - Shipments Index Machinery & Electricals\",\n",
    "     \"Germany - Shipments Index Machinery & Electricals\",\n",
    "     \"Producer Prices - Germany: Electrical equipment\",\n",
    "     \"Producer Prices - United States: Electrical equipment\",\n",
    "     \"Producer Prices - China: Electrical equipment\",\n",
    "     \"United States: EUR in LCU\"]\n",
    "]\n",
    "merged_data = monthly_sales_data.merge(market_selected, on=[\"Year\", \"Month\"], how=\"left\")\n",
    "\n",
    "print(merged_data.head()) "
   ]
  },
  {
   "cell_type": "markdown",
   "metadata": {},
   "source": [
    "Renaming Columns for Clarity"
   ]
  },
  {
   "cell_type": "code",
   "execution_count": null,
   "metadata": {},
   "outputs": [],
   "source": [
    "merged_data.rename(columns={\n",
    "    \"China - Production Index Machinery & Electricals\": \"Global_Industrial_Activity_Index\",\n",
    "    \"World: Price of Metals & Minerals\": \"Metals_Minerals_Price\",\n",
    "    \"World: Price of Natural Gas\": \"Natural_Gas_Price\",\n",
    "    \"World: Producer Prices\": \"Producer_Price_Index\"\n",
    "}, inplace=True)"
   ]
  },
  {
   "cell_type": "markdown",
   "metadata": {},
   "source": [
    "Converting Product Variable to Integer Type"
   ]
  },
  {
   "cell_type": "code",
   "execution_count": null,
   "metadata": {},
   "outputs": [],
   "source": [
    "merged_data[\"Mapped_GCK\"] = merged_data[\"Mapped_GCK\"].str.replace(\"#\", \"\").str.strip()\n",
    "merged_data[\"Mapped_GCK\"] = merged_data[\"Mapped_GCK\"].astype(int)"
   ]
  },
  {
   "cell_type": "code",
   "execution_count": null,
   "metadata": {},
   "outputs": [],
   "source": [
    "merged_data[\"Quarter\"] = merged_data[\"Month\"].apply(lambda x: (x - 1) // 3 + 1)\n",
    "merged_data[\"Is_Holiday_Month\"] = merged_data[\"Month\"].apply(lambda x: 1 if x == 12 else 0)\n",
    "merged_data[\"Sales_Lag_1M\"] = merged_data.groupby(\"Mapped_GCK\")[\"Sales_EUR\"].shift(1)\n",
    "merged_data[\"Sales_Lag_12M\"] = merged_data.groupby(\"Mapped_GCK\")[\"Sales_EUR\"].shift(12)"
   ]
  },
  {
   "cell_type": "code",
   "execution_count": null,
   "metadata": {},
   "outputs": [],
   "source": [
    "merged_data.fillna({\"Sales_Lag_1M\": merged_data[\"Sales_EUR\"].mean(),\n",
    "                    \"Sales_Lag_12M\": merged_data[\"Sales_EUR\"].mean()}, inplace=True)"
   ]
  },
  {
   "cell_type": "code",
   "execution_count": null,
   "metadata": {},
   "outputs": [],
   "source": [
    "print(merged_data.columns.tolist())"
   ]
  },
  {
   "cell_type": "code",
   "execution_count": null,
   "metadata": {},
   "outputs": [],
   "source": [
    "correlation_matrix = merged_data[\n",
    "    [\"Key_Materials_Price_Index\", \"Sales_EUR\",\n",
    "     \"Global_Industrial_Activity_Index\",\n",
    "     \"United States - Production Index Machinery & Electricals\",\n",
    "     \"Germany - Production Index Machinery & Electricals\",\n",
    "     \"Europe - Production Index Machinery & Electricals\",\n",
    "     \"Producer Prices - Germany: Electrical equipment\",\n",
    "     \"Producer Prices - United States: Electrical equipment\",\n",
    "     \"United States: EUR in LCU\"]\n",
    "].corr()\n",
    "\n",
    "plt.figure(figsize=(10, 7))\n",
    "sns.heatmap(correlation_matrix, annot=True, cmap=\"coolwarm\", fmt=\".2f\", linewidths=0.5)\n",
    "plt.title(\"Correlation Heatmap: Key Macroeconomic Features & Sales\")\n",
    "plt.xticks(rotation=90)\n",
    "plt.yticks(rotation=0)\n",
    "plt.show()"
   ]
  },
  {
   "cell_type": "markdown",
   "metadata": {},
   "source": [
    "Removing Unused Transformation Columns"
   ]
  },
  {
   "cell_type": "code",
   "execution_count": null,
   "metadata": {},
   "outputs": [],
   "source": [
    "merged_data = merged_data.drop(columns=[\n",
    "    \"Sales_EUR_BoxCox\",\n",
    "    \"Sales_EUR_Shifted\",\n",
    "    \"Key_Materials_Price_Index\",\n",
    "    \"Producer Prices - Germany: Electrical equipment\",\n",
    "    \"United States: EUR in LCU\"\n",
    "])"
   ]
  },
  {
   "cell_type": "code",
   "execution_count": null,
   "metadata": {},
   "outputs": [],
   "source": [
    "merged_data"
   ]
  },
  {
   "cell_type": "markdown",
   "metadata": {},
   "source": [
    "Copy with \"YearMonth\" "
   ]
  },
  {
   "cell_type": "code",
   "execution_count": null,
   "metadata": {},
   "outputs": [],
   "source": [
    "merged_data_2 = merged_data.copy()\n",
    "merged_data_2[\"YearMonth\"] = (\n",
    "    merged_data_2[\"Year\"].astype(str) + \"-\" + \n",
    "    merged_data_2[\"Month\"].astype(str).str.zfill(2)\n",
    ")\n",
    "\n",
    "merged_data_2 = merged_data_2.drop(columns=[\"Year\", \"Month\"])\n",
    "merged_data_2"
   ]
  },
  {
   "cell_type": "markdown",
   "metadata": {},
   "source": [
    "# 8. Modelling"
   ]
  },
  {
   "cell_type": "markdown",
   "metadata": {},
   "source": [
    "Time-Based Train-Test Split"
   ]
  },
  {
   "cell_type": "code",
   "execution_count": null,
   "metadata": {},
   "outputs": [],
   "source": [
    "merged_data_2 = merged_data_2.sort_values(by=[\"YearMonth\"])\n",
    "\n",
    "split_point = int(len(merged_data_2) * 0.8)\n",
    "train_data, test_data = merged_data_2.iloc[:split_point], merged_data_2.iloc[split_point:]\n",
    "\n",
    "target = \"Sales_EUR_Log\"\n",
    "excluded_features = [\"YearMonth\", \"Sales_EUR\", \"Sales_EUR_Log\"]\n",
    "features = [col for col in merged_data_2.columns if col not in excluded_features]\n",
    "\n",
    "X_train, X_test = train_data[features], test_data[features]\n",
    "y_train, y_test = train_data[target], test_data[target]\n",
    "\n",
    "print(f\"Train set size: {len(train_data)} rows\")\n",
    "print(f\"Test set size: {len(test_data)} rows\")\n",
    "print(\"Missing values in train set:\", X_train.isnull().sum().sum())\n",
    "print(\"Missing values in test set:\", X_test.isnull().sum().sum())"
   ]
  },
  {
   "cell_type": "code",
   "execution_count": null,
   "metadata": {},
   "outputs": [],
   "source": [
    "X_test.loc[:, \"United States - Shipments Index Machinery & Electricals\"] = X_test[\"United States - Shipments Index Machinery & Electricals\"].fillna(X_train[\"United States - Shipments Index Machinery & Electricals\"].mean())"
   ]
  },
  {
   "cell_type": "markdown",
   "metadata": {},
   "source": [
    "Calculating Acceptable RMSE Threshold per Product"
   ]
  },
  {
   "cell_type": "code",
   "execution_count": null,
   "metadata": {},
   "outputs": [],
   "source": [
    "ACCEPTABLE_PERCENTAGE = 20  \n",
    "rmse_thresholds = []\n",
    "\n",
    "for product_id in train_data[\"Mapped_GCK\"].unique():\n",
    "    median_sales = train_data[train_data[\"Mapped_GCK\"] == product_id][\"Sales_EUR\"].median()\n",
    "    threshold = (ACCEPTABLE_PERCENTAGE / 100) * median_sales\n",
    "    rmse_thresholds.append([product_id, int(threshold)])\n",
    "\n",
    "rmse_threshold_df = pd.DataFrame(rmse_thresholds, columns=[\"Mapped_GCK\", \"RMSE_Threshold\"])\n",
    "rmse_threshold_df"
   ]
  },
  {
   "cell_type": "markdown",
   "metadata": {},
   "source": [
    "# Prophet"
   ]
  },
  {
   "cell_type": "code",
   "execution_count": null,
   "metadata": {},
   "outputs": [],
   "source": [
    "forecast_results = []\n",
    "\n",
    "for product_id in merged_data_2[\"Mapped_GCK\"].unique():\n",
    "    product_data = merged_data_2[merged_data_2[\"Mapped_GCK\"] == product_id].copy()\n",
    "\n",
    "    prophet_df = product_data[['YearMonth', 'Sales_EUR_Log']].rename(columns={'YearMonth': 'ds', 'Sales_EUR_Log': 'y'})\n",
    "    prophet_df['ds'] = pd.to_datetime(prophet_df['ds'])\n",
    "\n",
    "    model = Prophet()\n",
    "    model.fit(prophet_df)\n",
    "\n",
    "    future = model.make_future_dataframe(periods=10, freq='MS')\n",
    "    forecast = model.predict(future)\n",
    "\n",
    "    future_forecast = forecast[['ds', 'yhat', 'yhat_lower', 'yhat_upper']].tail(10)\n",
    "    future_forecast['Mapped_GCK'] = product_id\n",
    "\n",
    "    forecast_results.append(future_forecast)\n",
    "\n",
    "forecast_results_df = pd.concat(forecast_results, ignore_index=True)\n",
    "\n",
    "plt.figure(figsize=(12,6))\n",
    "for product_id in merged_data_2[\"Mapped_GCK\"].unique():\n",
    "    product_data = merged_data_2[merged_data_2[\"Mapped_GCK\"] == product_id]\n",
    "    plt.plot(product_data['YearMonth'], product_data['Sales_EUR_Log'], label=f\"Product {product_id} Historical Sales\", alpha=0.7)\n",
    "\n",
    "plt.plot(forecast_results_df['ds'], forecast_results_df['yhat'], label=\"Forecast\", linestyle='dashed', color='red')\n",
    "plt.axvline(x='2022-05-01', color='black', linestyle='--', label=\"Forecast Start\")\n",
    "plt.fill_between(forecast_results_df['ds'], forecast_results_df['yhat_lower'], forecast_results_df['yhat_upper'], color='red', alpha=0.2)\n",
    "plt.legend()\n",
    "plt.title(\"Prophet Forecast for Sales\")\n",
    "plt.xlabel(\"Date\")\n",
    "plt.ylabel(\"Log Sales\")\n",
    "plt.show()"
   ]
  },
  {
   "cell_type": "markdown",
   "metadata": {},
   "source": [
    "# XGB"
   ]
  },
  {
   "cell_type": "code",
   "execution_count": null,
   "metadata": {},
   "outputs": [],
   "source": [
    "print(test_data.columns)\n",
    "test_data.loc[:, \"YearMonth\"] = pd.to_datetime(test_data[\"Year\"].astype(str) + \"-\" + test_data[\"Month\"].astype(str) + \"-01\")"
   ]
  },
  {
   "cell_type": "code",
   "execution_count": null,
   "metadata": {},
   "outputs": [],
   "source": [
    "# Define best parameters manually\n",
    "xgb_model = XGBRegressor(\n",
    "    n_estimators=100,\n",
    "    learning_rate=0.1,\n",
    "    max_depth=9,\n",
    "    subsample=1.0,\n",
    "    colsample_bytree=0.6,\n",
    "    random_state=42\n",
    ")\n",
    "\n",
    "# Train the model\n",
    "xgb_model.fit(X_train, y_train)\n",
    "\n",
    "# Make predictions\n",
    "y_pred_xgb_log = xgb_model.predict(X_test)  # Log scale predictions\n",
    "y_pred_xgb = np.expm1(y_pred_xgb_log)  # Convert back to EUR scale\n",
    "y_test_actual = np.expm1(y_test)\n",
    "\n",
    "# Compute RMSE\n",
    "rmse_xgb = mean_squared_error(y_test_actual, y_pred_xgb, squared=False)\n",
    "print(\"XGBoost RMSE:\", rmse_xgb)\n",
    "\n",
    "# **Predict for Next 10 Months**\n",
    "future_X = X_test.iloc[-10:].copy()  # Use last known values\n",
    "future_X = future_X.drop(columns=['YearMonth'], errors='ignore')  # Remove non-numeric columns\n",
    "future_predictions_log = xgb_model.predict(future_X)\n",
    "future_predictions = np.expm1(future_predictions_log)\n",
    "\n",
    "# Generate future dates\n",
    "last_date = pd.to_datetime(test_data[\"Year\"].astype(str) + \"-\" + test_data[\"Month\"].astype(str) + \"-01\").max()\n",
    "future_dates = pd.date_range(start=last_date, periods=11, freq=\"MS\")[1:]  # First date is excluded\n",
    "\n",
    "# **Plot Forecast**\n",
    "plt.figure(figsize=(12, 6))\n",
    "sns.lineplot(x=test_data[\"Year\"].astype(str) + \"-\" + test_data[\"Month\"].astype(str), \n",
    "             y=np.expm1(test_data[\"Sales_EUR_Log\"]), label=\"Actual Sales\", marker=\"o\", color=\"orange\")\n",
    "sns.lineplot(x=future_dates.strftime('%Y-%m'), y=future_predictions, label=\"XGBoost Forecast\", linestyle=\"dashed\", color=\"blue\")\n",
    "\n",
    "plt.xticks(rotation=45)\n",
    "plt.xlabel(\"Year-Month\")\n",
    "plt.ylabel(\"Sales (EUR)\")\n",
    "plt.title(\"XGBoost Sales Forecast for the Next 10 Months\")\n",
    "plt.legend()\n",
    "plt.grid(True)\n",
    "plt.show()"
   ]
  },
  {
   "cell_type": "markdown",
   "metadata": {},
   "source": [
    "# RF"
   ]
  },
  {
   "cell_type": "code",
   "execution_count": null,
   "metadata": {},
   "outputs": [],
   "source": [
    "from sklearn.ensemble import RandomForestRegressor\n",
    "\n",
    "# Initialize and train Random Forest model with optimal parameters\n",
    "rf_model = RandomForestRegressor(\n",
    "    n_estimators=300,  # Optimal number of trees\n",
    "    max_depth=20,  # Limit tree depth for better generalization\n",
    "    min_samples_split=5,  # Avoid overfitting\n",
    "    min_samples_leaf=2,  # More robust trees\n",
    "    max_features=\"sqrt\",  # Feature selection strategy\n",
    "    random_state=42\n",
    ")\n",
    "\n",
    "rf_model.fit(X_train, y_train)\n",
    "\n",
    "# Make predictions\n",
    "y_pred_rf_log = rf_model.predict(X_test)  # Log scale predictions\n",
    "y_pred_rf = np.expm1(y_pred_rf_log)  # Convert back to EUR scale\n",
    "y_test_actual = np.expm1(y_test)\n",
    "\n",
    "# Compute RMSE\n",
    "rmse_rf = mean_squared_error(y_test_actual, y_pred_rf, squared=False)\n",
    "print(\"Random Forest RMSE:\", rmse_rf)\n",
    "\n",
    "# **Predict for Next 10 Months**\n",
    "future_X = X_test.iloc[-10:].copy()  # Use last known values\n",
    "future_X = future_X.drop(columns=['YearMonth'], errors='ignore')  # Remove non-numeric columns\n",
    "future_predictions_rf_log = rf_model.predict(future_X)\n",
    "future_predictions_rf = np.expm1(future_predictions_rf_log)\n",
    "\n",
    "# Generate future dates\n",
    "last_date = pd.to_datetime(test_data[\"Year\"].astype(str) + \"-\" + test_data[\"Month\"].astype(str) + \"-01\").max()\n",
    "future_dates = pd.date_range(start=last_date, periods=11, freq=\"MS\")[1:]  # First date is excluded\n",
    "\n",
    "# **Plot Forecast**\n",
    "plt.figure(figsize=(12, 6))\n",
    "sns.lineplot(x=test_data[\"Year\"].astype(str) + \"-\" + test_data[\"Month\"].astype(str), \n",
    "             y=np.expm1(test_data[\"Sales_EUR_Log\"]), label=\"Actual Sales\", marker=\"o\", color=\"orange\")\n",
    "sns.lineplot(x=future_dates.strftime('%Y-%m'), y=future_predictions_rf, label=\"RF Forecast\", linestyle=\"dotted\", color=\"green\")\n",
    "\n",
    "plt.xticks(rotation=45)\n",
    "plt.xlabel(\"Year-Month\")\n",
    "plt.ylabel(\"Sales (EUR)\")\n",
    "plt.title(\"Random Forest Sales Forecast for the Next 10 Months\")\n",
    "plt.legend()\n",
    "plt.grid(True)\n",
    "plt.show()"
   ]
  },
  {
   "cell_type": "markdown",
   "metadata": {},
   "source": [
    "# SARIMA"
   ]
  },
  {
   "cell_type": "code",
   "execution_count": null,
   "metadata": {},
   "outputs": [],
   "source": [
    "# Prepare time-series data\n",
    "train_data[\"YearMonth\"] = pd.to_datetime(train_data[\"Year\"].astype(str) + \"-\" + train_data[\"Month\"].astype(str) + \"-01\")\n",
    "test_data[\"YearMonth\"] = pd.to_datetime(test_data[\"Year\"].astype(str) + \"-\" + test_data[\"Month\"].astype(str) + \"-01\")\n",
    "\n",
    "# Set YearMonth as index\n",
    "train_ts = train_data.set_index(\"YearMonth\")[\"Sales_EUR_Log\"]\n",
    "test_ts = test_data.set_index(\"YearMonth\")[\"Sales_EUR_Log\"]\n",
    "\n",
    "# Fit SARIMA Model\n",
    "sarima_model = SARIMAX(train_ts, order=(1,1,1), seasonal_order=(1,1,1,12), enforce_stationarity=False, enforce_invertibility=False)\n",
    "sarima_result = sarima_model.fit(disp=False)\n",
    "\n",
    "# Make predictions\n",
    "sarima_pred_log = sarima_result.predict(start=test_ts.index[0], end=test_ts.index[-1])\n",
    "sarima_pred = np.expm1(sarima_pred_log)  # Convert back to original scale\n",
    "test_actual = np.expm1(test_ts)\n",
    "\n",
    "# Compute RMSE\n",
    "rmse_sarima = mean_squared_error(test_actual, sarima_pred, squared=False)\n",
    "print(\"SARIMA RMSE:\", rmse_sarima)\n",
    "\n",
    "# **Forecast for Next 10 Months**\n",
    "future_dates = pd.date_range(start=test_ts.index.max(), periods=11, freq=\"MS\")[1:]\n",
    "sarima_forecast_log = sarima_result.forecast(steps=10)\n",
    "sarima_forecast = np.expm1(sarima_forecast_log)  # Convert back to EUR\n",
    "\n",
    "# **Plot Forecast**\n",
    "plt.figure(figsize=(12, 6))\n",
    "sns.lineplot(x=test_ts.index, y=test_actual, label=\"Actual Sales\", marker=\"o\", color=\"orange\")\n",
    "sns.lineplot(x=future_dates, y=sarima_forecast, label=\"SARIMA Forecast\", linestyle=\"dashed\", color=\"purple\")\n",
    "\n",
    "plt.xticks(rotation=45)\n",
    "plt.xlabel(\"Year-Month\")\n",
    "plt.ylabel(\"Sales (EUR)\")\n",
    "plt.title(\"SARIMA Sales Forecast for the Next 10 Months\")\n",
    "plt.legend()\n",
    "plt.grid(True)\n",
    "plt.show()"
   ]
  }
 ],
 "metadata": {
  "kernelspec": {
   "display_name": "base",
   "language": "python",
   "name": "python3"
  },
  "language_info": {
   "codemirror_mode": {
    "name": "ipython",
    "version": 3
   },
   "file_extension": ".py",
   "mimetype": "text/x-python",
   "name": "python",
   "nbconvert_exporter": "python",
   "pygments_lexer": "ipython3",
   "version": "3.12.4"
  }
 },
 "nbformat": 4,
 "nbformat_minor": 2
}
