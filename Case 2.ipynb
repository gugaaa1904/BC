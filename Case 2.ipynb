{
 "cells": [
  {
   "cell_type": "markdown",
   "metadata": {},
   "source": [
    "# Case 2: Siemens AI-Driven Sales Forecasting\n",
    "\n",
    "## Overview\n",
    "This case study involves building a monthly sales forecasting model using real sales data from Siemens’ Smart Infrastructure Division in Germany. The objective is to apply machine learning techniques to predict future sales based on historical data and macro-economic indicators.\n",
    "\n",
    "## Business Problem\n",
    "- Manual sales forecasting is time-consuming and relies on human judgment.\n",
    "- Data is scattered across multiple sources, making it difficult to derive insights.\n",
    "- Inaccurate forecasts lead to financial losses, such as inefficient inventory management and unsatisfied customers.\n",
    "\n",
    "## Objective\n",
    "- Develop an AI-driven predictive model to automate the forecasting process.\n",
    "- Evaluate the model using Root Mean Squared Error (RMSE).\n",
    "- Submit predictions for May 2022 - February 2023 in a structured CSV format. \n",
    "\n",
    "## This notebook was developed by:\n",
    "\n",
    "- João Venichand - 20211644\n",
    "- Gonçalo Custódio - 20211643\n",
    "- Diogo Correia - 20211586\n",
    "- Duarte Emanuel - 20240564\n"
   ]
  },
  {
   "cell_type": "markdown",
   "metadata": {},
   "source": [
    "# 1. Importing Libraries"
   ]
  },
  {
   "cell_type": "code",
   "execution_count": 64,
   "metadata": {},
   "outputs": [],
   "source": [
    "import pandas as pd\n",
    "import numpy as np\n",
    "import matplotlib.pyplot as plt\n",
    "import seaborn as sns\n",
    "from scipy.stats import zscore\n",
    "from sklearn.model_selection import train_test_split\n",
    "from sklearn.preprocessing import StandardScaler\n",
    "from sklearn.ensemble import RandomForestRegressor\n",
    "from xgboost import XGBRegressor\n",
    "from sklearn.metrics import mean_squared_error"
   ]
  },
  {
   "cell_type": "markdown",
   "metadata": {},
   "source": [
    "# 2. Load Datasets"
   ]
  },
  {
   "cell_type": "code",
   "execution_count": 65,
   "metadata": {},
   "outputs": [],
   "source": [
    "sales_data = pd.read_csv(\"sales_data.csv\")\n",
    "market_data = pd.read_excel(\"market_data.xlsx\", skiprows=2)\n",
    "test_set = pd.read_csv(\"test_set_template.csv\")"
   ]
  },
  {
   "cell_type": "code",
   "execution_count": 66,
   "metadata": {},
   "outputs": [
    {
     "name": "stdout",
     "output_type": "stream",
     "text": [
      "         DATE Mapped_GCK  Sales_EUR\n",
      "0  01.10.2018         #1          0\n",
      "1  02.10.2018         #1          0\n",
      "2  03.10.2018         #1          0\n",
      "3  04.10.2018         #1          0\n",
      "4  05.10.2018         #1          0\n",
      "<class 'pandas.core.frame.DataFrame'>\n",
      "RangeIndex: 9802 entries, 0 to 9801\n",
      "Data columns (total 3 columns):\n",
      " #   Column      Non-Null Count  Dtype \n",
      "---  ------      --------------  ----- \n",
      " 0   DATE        9802 non-null   object\n",
      " 1   Mapped_GCK  9802 non-null   object\n",
      " 2   Sales_EUR   9802 non-null   int64 \n",
      "dtypes: int64(1), object(2)\n",
      "memory usage: 229.9+ KB\n",
      "None\n",
      "          Sales_EUR\n",
      "count  9.802000e+03\n",
      "mean   2.727856e+05\n",
      "std    2.230789e+06\n",
      "min   -5.063810e+05\n",
      "25%    0.000000e+00\n",
      "50%    0.000000e+00\n",
      "75%    0.000000e+00\n",
      "max    4.112799e+07\n"
     ]
    }
   ],
   "source": [
    "print(sales_data.head())\n",
    "print(sales_data.info())\n",
    "print(sales_data.describe())"
   ]
  },
  {
   "cell_type": "code",
   "execution_count": 67,
   "metadata": {},
   "outputs": [
    {
     "name": "stdout",
     "output_type": "stream",
     "text": [
      "      date  MAB_ELE_PRO156  MAB_ELE_SHP156  MAB_ELE_PRO250  MAB_ELE_SHP250  \\\n",
      "0   2004m2       16.940704       16.940704      112.091273       83.458866   \n",
      "1   2004m3       23.711852       23.711852      136.327976      106.168192   \n",
      "2   2004m4       24.435235       24.435235      117.791806       92.007646   \n",
      "3   2004m5       23.708115       23.708115      109.002541       85.696486   \n",
      "4   2004m6       27.009138       27.009138      133.785737      106.641482   \n",
      "\n",
      "   MAB_ELE_PRO276  MAB_ELE_SHP276  MAB_ELE_PRO380  MAB_ELE_SHP380  \\\n",
      "0       82.623037       79.452532      124.289603       86.560493   \n",
      "1      100.556582       97.012918      143.411662      106.344544   \n",
      "2       89.653203       84.932358      129.083828       95.579673   \n",
      "3       86.880571       82.372794      135.590391      100.087039   \n",
      "4       99.010814       95.108740      136.424935      110.889719   \n",
      "\n",
      "   MAB_ELE_PRO392  ...  PRO28250_org  PRO28276_org  PRO27840_org  \\\n",
      "0      109.334010  ...    118.274109     80.829010    117.723991   \n",
      "1      140.884616  ...    148.121841    102.130104    119.220779   \n",
      "2      105.853579  ...    125.482231     90.961426    117.441124   \n",
      "3      101.864777  ...    116.649750     88.082901    117.899216   \n",
      "4      120.332920  ...    143.248734    100.978699    119.499107   \n",
      "\n",
      "   PRO271000_org  PRO27756_org  PRO27826_org  PRO27380_org  PRO27392_org  \\\n",
      "0            NaN     81.100000    120.706516    141.510864    106.161262   \n",
      "1            NaN     76.690307    138.309550    152.880234    140.288741   \n",
      "2            NaN     71.552403    115.557330    137.796875    106.271197   \n",
      "3            NaN     66.414500    119.269534    143.860535    101.608710   \n",
      "4            NaN     61.276596    128.849416    144.315308    116.655248   \n",
      "\n",
      "   PRO27250_org  PRO27276_org  \n",
      "0    102.077057     85.913200  \n",
      "1    117.225685     97.670815  \n",
      "2    105.335777     87.253983  \n",
      "3     96.616508     84.675552  \n",
      "4    118.458710     95.401802  \n",
      "\n",
      "[5 rows x 48 columns]\n",
      "<class 'pandas.core.frame.DataFrame'>\n",
      "RangeIndex: 219 entries, 0 to 218\n",
      "Data columns (total 48 columns):\n",
      " #   Column                  Non-Null Count  Dtype  \n",
      "---  ------                  --------------  -----  \n",
      " 0   date                    219 non-null    object \n",
      " 1   MAB_ELE_PRO156          219 non-null    float64\n",
      " 2   MAB_ELE_SHP156          219 non-null    float64\n",
      " 3   MAB_ELE_PRO250          219 non-null    float64\n",
      " 4   MAB_ELE_SHP250          219 non-null    float64\n",
      " 5   MAB_ELE_PRO276          219 non-null    float64\n",
      " 6   MAB_ELE_SHP276          219 non-null    float64\n",
      " 7   MAB_ELE_PRO380          219 non-null    float64\n",
      " 8   MAB_ELE_SHP380          219 non-null    float64\n",
      " 9   MAB_ELE_PRO392          219 non-null    float64\n",
      " 10  MAB_ELE_SHP392          219 non-null    float64\n",
      " 11  MAB_ELE_PRO756          218 non-null    float64\n",
      " 12  MAB_ELE_SHP756          218 non-null    float64\n",
      " 13  MAB_ELE_PRO826          219 non-null    float64\n",
      " 14  MAB_ELE_SHP826          201 non-null    float64\n",
      " 15  MAB_ELE_PRO840          219 non-null    float64\n",
      " 16  MAB_ELE_SHP840          218 non-null    float64\n",
      " 17  MAB_ELE_PRO1100         219 non-null    float64\n",
      " 18  MAB_ELE_SHP1100         219 non-null    float64\n",
      " 19  RohiBASEMET1000_org     219 non-null    float64\n",
      " 20  RohiENERGY1000_org      219 non-null    float64\n",
      " 21  RohiMETMIN1000_org      219 non-null    float64\n",
      " 22  RohiNATGAS1000_org      219 non-null    float64\n",
      " 23  RohCRUDE_PETRO1000_org  219 non-null    float64\n",
      " 24  RohCOPPER1000_org       219 non-null    float64\n",
      " 25  WKLWEUR840_org          219 non-null    float64\n",
      " 26  PRI27840_org            219 non-null    float64\n",
      " 27  PRI27826_org            201 non-null    float64\n",
      " 28  PRI27380_org            219 non-null    float64\n",
      " 29  PRI27250_org            184 non-null    float64\n",
      " 30  PRI27276_org            219 non-null    float64\n",
      " 31  PRI27156_org            196 non-null    float64\n",
      " 32  PRO28840_org            219 non-null    float64\n",
      " 33  PRO281000_org           219 non-null    float64\n",
      " 34  PRO28756_org            218 non-null    float64\n",
      " 35  PRO28826_org            219 non-null    float64\n",
      " 36  PRO28380_org            219 non-null    float64\n",
      " 37  PRO28392_org            219 non-null    float64\n",
      " 38  PRO28250_org            219 non-null    float64\n",
      " 39  PRO28276_org            219 non-null    float64\n",
      " 40  PRO27840_org            219 non-null    float64\n",
      " 41  PRO271000_org           208 non-null    float64\n",
      " 42  PRO27756_org            218 non-null    float64\n",
      " 43  PRO27826_org            219 non-null    float64\n",
      " 44  PRO27380_org            219 non-null    float64\n",
      " 45  PRO27392_org            219 non-null    float64\n",
      " 46  PRO27250_org            219 non-null    float64\n",
      " 47  PRO27276_org            219 non-null    float64\n",
      "dtypes: float64(47), object(1)\n",
      "memory usage: 82.3+ KB\n",
      "None\n",
      "       MAB_ELE_PRO156  MAB_ELE_SHP156  MAB_ELE_PRO250  MAB_ELE_SHP250  \\\n",
      "count      219.000000      219.000000      219.000000      219.000000   \n",
      "mean       138.303637      138.303637      104.431918      105.316814   \n",
      "std         78.883209       78.883209       18.918529       12.762209   \n",
      "min         16.940704       16.940704       50.756680       64.420676   \n",
      "25%         68.477740       68.477740       93.613505       97.452819   \n",
      "50%        133.507690      133.507690      102.736556      106.012166   \n",
      "75%        198.473934      198.473934      114.090851      115.030479   \n",
      "max        329.413367      329.413367      152.743402      136.858720   \n",
      "\n",
      "       MAB_ELE_PRO276  MAB_ELE_SHP276  MAB_ELE_PRO380  MAB_ELE_SHP380  \\\n",
      "count      219.000000      219.000000      219.000000      219.000000   \n",
      "mean       107.499126      114.898377      105.228363      105.735378   \n",
      "std         11.861942       17.091571       23.509638       19.948183   \n",
      "min         74.332913       71.787161       34.213427       45.191710   \n",
      "25%        100.560897      103.149778       94.335162       95.985839   \n",
      "50%        108.992290      117.428836      105.088474      107.695805   \n",
      "75%        115.735786      127.112220      117.031701      119.836360   \n",
      "max        130.869962      151.297092      153.940791      153.645142   \n",
      "\n",
      "       MAB_ELE_PRO392  MAB_ELE_SHP392  ...  PRO28250_org  PRO28276_org  \\\n",
      "count      219.000000      219.000000  ...    219.000000    219.000000   \n",
      "mean       111.948146      112.670602  ...    109.116660    110.429205   \n",
      "std         15.489336       16.891947  ...     21.050102     14.351658   \n",
      "min         67.531940       64.372344  ...     54.416245     71.617737   \n",
      "25%        103.740049      103.453182  ...     96.598988    102.014969   \n",
      "50%        111.683015      112.597293  ...    106.395935    111.341393   \n",
      "75%        121.402653      121.498141  ...    120.558380    120.207260   \n",
      "max        153.898678      159.495942  ...    167.005081    147.265411   \n",
      "\n",
      "       PRO27840_org  PRO271000_org  PRO27756_org  PRO27826_org  PRO27380_org  \\\n",
      "count    219.000000     208.000000    218.000000    219.000000    219.000000   \n",
      "mean     110.902904     111.147070     94.592852    116.667327     95.450517   \n",
      "std        8.444573      12.321223     13.465043     13.205283     29.195353   \n",
      "min       91.535751      83.310173     56.832151     77.956292     34.487114   \n",
      "25%      106.617188     102.798376     90.283688    107.414430     79.168774   \n",
      "50%      109.156631     110.284397     97.620173    116.994312     88.377968   \n",
      "75%      116.481281     117.551489    103.238771    125.975452    110.472462   \n",
      "max      129.713318     152.452942    117.541371    154.834847    164.855988   \n",
      "\n",
      "       PRO27392_org  PRO27250_org  PRO27276_org  \n",
      "count    219.000000    219.000000    219.000000  \n",
      "mean     105.555794     96.844134    102.125494  \n",
      "std       12.592527     16.857775      9.959946  \n",
      "min       74.565520     44.829357     76.424583  \n",
      "25%       97.547726     84.770638     95.659645  \n",
      "50%      104.366326     95.823845    103.549629  \n",
      "75%      112.485105    108.154121    108.861191  \n",
      "max      141.977523    141.269730    121.495483  \n",
      "\n",
      "[8 rows x 47 columns]\n"
     ]
    }
   ],
   "source": [
    "print(market_data.head())\n",
    "print(market_data.info())\n",
    "print(market_data.describe())"
   ]
  },
  {
   "cell_type": "code",
   "execution_count": 68,
   "metadata": {},
   "outputs": [
    {
     "name": "stdout",
     "output_type": "stream",
     "text": [
      "  Month Year Mapped_GCK  Sales_EUR\n",
      "0     Mai 22         #3        NaN\n",
      "1     22-Jun         #3        NaN\n",
      "2     22-Jul         #3        NaN\n",
      "3     22-Aug         #3        NaN\n",
      "4     22-Sep         #3        NaN\n",
      "<class 'pandas.core.frame.DataFrame'>\n",
      "RangeIndex: 140 entries, 0 to 139\n",
      "Data columns (total 3 columns):\n",
      " #   Column      Non-Null Count  Dtype  \n",
      "---  ------      --------------  -----  \n",
      " 0   Month Year  140 non-null    object \n",
      " 1   Mapped_GCK  140 non-null    object \n",
      " 2   Sales_EUR   0 non-null      float64\n",
      "dtypes: float64(1), object(2)\n",
      "memory usage: 3.4+ KB\n",
      "None\n",
      "       Sales_EUR\n",
      "count        0.0\n",
      "mean         NaN\n",
      "std          NaN\n",
      "min          NaN\n",
      "25%          NaN\n",
      "50%          NaN\n",
      "75%          NaN\n",
      "max          NaN\n"
     ]
    }
   ],
   "source": [
    "print(test_set.head())\n",
    "print(test_set.info())\n",
    "print(test_set.describe())"
   ]
  },
  {
   "cell_type": "markdown",
   "metadata": {},
   "source": [
    "# 3. Data Exploration & Quality Check"
   ]
  },
  {
   "cell_type": "markdown",
   "metadata": {},
   "source": [
    "Data Types"
   ]
  },
  {
   "cell_type": "code",
   "execution_count": 69,
   "metadata": {},
   "outputs": [
    {
     "name": "stdout",
     "output_type": "stream",
     "text": [
      "DATE          object\n",
      "Mapped_GCK    object\n",
      "Sales_EUR      int64\n",
      "dtype: object\n"
     ]
    }
   ],
   "source": [
    "print(sales_data.dtypes)"
   ]
  },
  {
   "cell_type": "markdown",
   "metadata": {},
   "source": [
    "Check Missing Values"
   ]
  },
  {
   "cell_type": "code",
   "execution_count": 70,
   "metadata": {},
   "outputs": [
    {
     "name": "stdout",
     "output_type": "stream",
     "text": [
      "DATE          0\n",
      "Mapped_GCK    0\n",
      "Sales_EUR     0\n",
      "dtype: int64\n"
     ]
    }
   ],
   "source": [
    "print(sales_data.isnull().sum())"
   ]
  },
  {
   "cell_type": "code",
   "execution_count": 71,
   "metadata": {},
   "outputs": [
    {
     "name": "stdout",
     "output_type": "stream",
     "text": [
      "date                       0\n",
      "MAB_ELE_PRO156             0\n",
      "MAB_ELE_SHP156             0\n",
      "MAB_ELE_PRO250             0\n",
      "MAB_ELE_SHP250             0\n",
      "MAB_ELE_PRO276             0\n",
      "MAB_ELE_SHP276             0\n",
      "MAB_ELE_PRO380             0\n",
      "MAB_ELE_SHP380             0\n",
      "MAB_ELE_PRO392             0\n",
      "MAB_ELE_SHP392             0\n",
      "MAB_ELE_PRO756             1\n",
      "MAB_ELE_SHP756             1\n",
      "MAB_ELE_PRO826             0\n",
      "MAB_ELE_SHP826            18\n",
      "MAB_ELE_PRO840             0\n",
      "MAB_ELE_SHP840             1\n",
      "MAB_ELE_PRO1100            0\n",
      "MAB_ELE_SHP1100            0\n",
      "RohiBASEMET1000_org        0\n",
      "RohiENERGY1000_org         0\n",
      "RohiMETMIN1000_org         0\n",
      "RohiNATGAS1000_org         0\n",
      "RohCRUDE_PETRO1000_org     0\n",
      "RohCOPPER1000_org          0\n",
      "WKLWEUR840_org             0\n",
      "PRI27840_org               0\n",
      "PRI27826_org              18\n",
      "PRI27380_org               0\n",
      "PRI27250_org              35\n",
      "PRI27276_org               0\n",
      "PRI27156_org              23\n",
      "PRO28840_org               0\n",
      "PRO281000_org              0\n",
      "PRO28756_org               1\n",
      "PRO28826_org               0\n",
      "PRO28380_org               0\n",
      "PRO28392_org               0\n",
      "PRO28250_org               0\n",
      "PRO28276_org               0\n",
      "PRO27840_org               0\n",
      "PRO271000_org             11\n",
      "PRO27756_org               1\n",
      "PRO27826_org               0\n",
      "PRO27380_org               0\n",
      "PRO27392_org               0\n",
      "PRO27250_org               0\n",
      "PRO27276_org               0\n",
      "dtype: int64\n"
     ]
    }
   ],
   "source": [
    "print(market_data.isnull().sum())"
   ]
  },
  {
   "cell_type": "code",
   "execution_count": 72,
   "metadata": {},
   "outputs": [
    {
     "name": "stdout",
     "output_type": "stream",
     "text": [
      "Month Year      0\n",
      "Mapped_GCK      0\n",
      "Sales_EUR     140\n",
      "dtype: int64\n"
     ]
    }
   ],
   "source": [
    "print(test_set.isnull().sum())"
   ]
  },
  {
   "cell_type": "markdown",
   "metadata": {},
   "source": [
    "Duplicated Values Check"
   ]
  },
  {
   "cell_type": "code",
   "execution_count": 73,
   "metadata": {},
   "outputs": [
    {
     "name": "stdout",
     "output_type": "stream",
     "text": [
      "Duplicate Rows in Sales Data: 0\n",
      "Duplicate Rows in Market Data: 0\n",
      "Duplicate Rows in Test Set: 0\n"
     ]
    }
   ],
   "source": [
    "print(\"Duplicate Rows in Sales Data:\", sales_data.duplicated().sum())\n",
    "print(\"Duplicate Rows in Market Data:\", market_data.duplicated().sum())\n",
    "print(\"Duplicate Rows in Test Set:\", test_set.duplicated().sum())"
   ]
  },
  {
   "cell_type": "markdown",
   "metadata": {},
   "source": [
    "Outliers Check"
   ]
  },
  {
   "cell_type": "code",
   "execution_count": 74,
   "metadata": {},
   "outputs": [
    {
     "data": {
      "image/png": "[encoded data removed]",
      "text/plain": [
       "<Figure size 1200x600 with 1 Axes>"
      ]
     },
     "metadata": {},
     "output_type": "display_data"
    }
   ],
   "source": [
    "num_cols = sales_data.select_dtypes(include=['number']).columns\n",
    "\n",
    "plt.figure(figsize=(12, 6))\n",
    "for i, col in enumerate(num_cols):\n",
    "    plt.subplot(2, 3, i+1)\n",
    "    sns.boxplot(y=sales_data[col])\n",
    "    plt.title(f\"Boxplot of {col}\")\n",
    "    plt.tight_layout()\n",
    "plt.show()"
   ]
  },
  {
   "cell_type": "code",
   "execution_count": 75,
   "metadata": {},
   "outputs": [
    {
     "name": "stdout",
     "output_type": "stream",
     "text": [
      "Number of Outliers per Column:\n",
      "Sales_EUR    53\n",
      "dtype: int64\n"
     ]
    }
   ],
   "source": [
    "z_scores = np.abs(zscore(sales_data.select_dtypes(include=['number'])))\n",
    "threshold = 3\n",
    "outliers = (z_scores > threshold).sum()\n",
    "\n",
    "print(\"Number of Outliers per Column:\")\n",
    "print(outliers)"
   ]
  },
  {
   "cell_type": "markdown",
   "metadata": {},
   "source": [
    "# 4. Data Cleaning and Preprocessing"
   ]
  },
  {
   "cell_type": "markdown",
   "metadata": {},
   "source": [
    "Fill missing values in test_set"
   ]
  },
  {
   "cell_type": "code",
   "execution_count": 76,
   "metadata": {},
   "outputs": [
    {
     "name": "stderr",
     "output_type": "stream",
     "text": [
      "C:\\Users\\gonca\\AppData\\Local\\Temp\\ipykernel_21972\\239829453.py:1: FutureWarning: A value is trying to be set on a copy of a DataFrame or Series through chained assignment using an inplace method.\n",
      "The behavior will change in pandas 3.0. This inplace method will never work because the intermediate object on which we are setting values always behaves as a copy.\n",
      "\n",
      "For example, when doing 'df[col].method(value, inplace=True)', try using 'df.method({col: value}, inplace=True)' or df[col] = df[col].method(value) instead, to perform the operation inplace on the original object.\n",
      "\n",
      "\n",
      "  test_set['Sales_EUR'].fillna(0, inplace=True)\n"
     ]
    }
   ],
   "source": [
    "test_set['Sales_EUR'].fillna(0, inplace=True)"
   ]
  },
  {
   "cell_type": "markdown",
   "metadata": {},
   "source": [
    "Forward-fill missing values in market_data"
   ]
  },
  {
   "cell_type": "code",
   "execution_count": 77,
   "metadata": {},
   "outputs": [
    {
     "name": "stderr",
     "output_type": "stream",
     "text": [
      "C:\\Users\\gonca\\AppData\\Local\\Temp\\ipykernel_21972\\368739243.py:1: FutureWarning: DataFrame.fillna with 'method' is deprecated and will raise in a future version. Use obj.ffill() or obj.bfill() instead.\n",
      "  market_data.fillna(method='ffill', inplace=True)\n"
     ]
    }
   ],
   "source": [
    "market_data.fillna(method='ffill', inplace=True)"
   ]
  },
  {
   "cell_type": "markdown",
   "metadata": {},
   "source": [
    "Apply Log Transformation to the Outliers"
   ]
  },
  {
   "cell_type": "code",
   "execution_count": 78,
   "metadata": {},
   "outputs": [
    {
     "name": "stderr",
     "output_type": "stream",
     "text": [
      "c:\\Users\\gonca\\anaconda3\\Lib\\site-packages\\pandas\\core\\arraylike.py:399: RuntimeWarning: divide by zero encountered in log1p\n",
      "  result = getattr(ufunc, method)(*inputs, **kwargs)\n",
      "c:\\Users\\gonca\\anaconda3\\Lib\\site-packages\\pandas\\core\\arraylike.py:399: RuntimeWarning: invalid value encountered in log1p\n",
      "  result = getattr(ufunc, method)(*inputs, **kwargs)\n"
     ]
    }
   ],
   "source": [
    "sales_data['Sales_EUR'] = np.log1p(sales_data['Sales_EUR'])"
   ]
  },
  {
   "cell_type": "markdown",
   "metadata": {},
   "source": [
    "Convert DATE column to datetime format"
   ]
  },
  {
   "cell_type": "code",
   "execution_count": 79,
   "metadata": {},
   "outputs": [],
   "source": [
    "sales_data['DATE'] = pd.to_datetime(sales_data['DATE'], dayfirst=True, errors='coerce')"
   ]
  },
  {
   "cell_type": "markdown",
   "metadata": {},
   "source": [
    "Extract year and month"
   ]
  },
  {
   "cell_type": "code",
   "execution_count": 80,
   "metadata": {},
   "outputs": [],
   "source": [
    "sales_data['YearMonth'] = sales_data['DATE'].dt.to_period('M').astype(str)"
   ]
  },
  {
   "cell_type": "markdown",
   "metadata": {},
   "source": [
    "Aggregate sales to monthly level"
   ]
  },
  {
   "cell_type": "code",
   "execution_count": 81,
   "metadata": {},
   "outputs": [],
   "source": [
    "monthly_sales = sales_data.groupby(['YearMonth', 'Mapped_GCK'], as_index=False).agg({'Sales_EUR': 'sum'})"
   ]
  },
  {
   "cell_type": "markdown",
   "metadata": {},
   "source": [
    "Convert YearMonth back to datetime for merging"
   ]
  },
  {
   "cell_type": "code",
   "execution_count": 82,
   "metadata": {},
   "outputs": [],
   "source": [
    "monthly_sales['YearMonth'] = pd.to_datetime(monthly_sales['YearMonth']) + pd.offsets.MonthBegin(0)"
   ]
  },
  {
   "cell_type": "markdown",
   "metadata": {},
   "source": [
    "### 4.1 Extract Relevant Macroeconomic Indicators"
   ]
  },
  {
   "cell_type": "markdown",
   "metadata": {},
   "source": [
    "Select relevant macroeconomic indicators for USA, China, and Germany"
   ]
  },
  {
   "cell_type": "code",
   "execution_count": 83,
   "metadata": {},
   "outputs": [
    {
     "name": "stdout",
     "output_type": "stream",
     "text": [
      "Unexpected exception formatting exception. Falling back to standard exception\n"
     ]
    },
    {
     "name": "stderr",
     "output_type": "stream",
     "text": [
      "Traceback (most recent call last):\n",
      "  File \"c:\\Users\\gonca\\anaconda3\\Lib\\site-packages\\IPython\\core\\interactiveshell.py\", line 3577, in run_code\n",
      "    exec(code_obj, self.user_global_ns, self.user_ns)\n",
      "  File \"C:\\Users\\gonca\\AppData\\Local\\Temp\\ipykernel_21972\\693829501.py\", line 8, in <module>\n",
      "    market_data_filtered = market_data[selected_columns].copy()\n",
      "                           ~~~~~~~~~~~^^^^^^^^^^^^^^^^^^\n",
      "  File \"c:\\Users\\gonca\\anaconda3\\Lib\\site-packages\\pandas\\core\\frame.py\", line 4108, in __getitem__\n",
      "    indexer = self.columns._get_indexer_strict(key, \"columns\")[1]\n",
      "              ^^^^^^^^^^^^^^^^^^^^^^^^^^^^^^^^^^^^^^^^^^^^^^^^\n",
      "  File \"c:\\Users\\gonca\\anaconda3\\Lib\\site-packages\\pandas\\core\\indexes\\base.py\", line 6200, in _get_indexer_strict\n",
      "    self._raise_if_missing(keyarr, indexer, axis_name)\n",
      "  File \"c:\\Users\\gonca\\anaconda3\\Lib\\site-packages\\pandas\\core\\indexes\\base.py\", line 6252, in _raise_if_missing\n",
      "    raise KeyError(f\"{not_found} not in index\")\n",
      "KeyError: \"['YearMonth'] not in index\"\n",
      "\n",
      "During handling of the above exception, another exception occurred:\n",
      "\n",
      "Traceback (most recent call last):\n",
      "  File \"c:\\Users\\gonca\\anaconda3\\Lib\\site-packages\\IPython\\core\\interactiveshell.py\", line 2168, in showtraceback\n",
      "    stb = self.InteractiveTB.structured_traceback(\n",
      "          ^^^^^^^^^^^^^^^^^^^^^^^^^^^^^^^^^^^^^^^^\n",
      "  File \"c:\\Users\\gonca\\anaconda3\\Lib\\site-packages\\IPython\\core\\ultratb.py\", line 1454, in structured_traceback\n",
      "    return FormattedTB.structured_traceback(\n",
      "           ^^^^^^^^^^^^^^^^^^^^^^^^^^^^^^^^^\n",
      "  File \"c:\\Users\\gonca\\anaconda3\\Lib\\site-packages\\IPython\\core\\ultratb.py\", line 1345, in structured_traceback\n",
      "    return VerboseTB.structured_traceback(\n",
      "           ^^^^^^^^^^^^^^^^^^^^^^^^^^^^^^^\n",
      "  File \"c:\\Users\\gonca\\anaconda3\\Lib\\site-packages\\IPython\\core\\ultratb.py\", line 1192, in structured_traceback\n",
      "    formatted_exception = self.format_exception_as_a_whole(etype, evalue, etb, number_of_lines_of_context,\n",
      "                          ^^^^^^^^^^^^^^^^^^^^^^^^^^^^^^^^^^^^^^^^^^^^^^^^^^^^^^^^^^^^^^^^^^^^^^^^^^^^^^^^\n",
      "  File \"c:\\Users\\gonca\\anaconda3\\Lib\\site-packages\\IPython\\core\\ultratb.py\", line 1082, in format_exception_as_a_whole\n",
      "    self.get_records(etb, number_of_lines_of_context, tb_offset) if etb else []\n",
      "    ^^^^^^^^^^^^^^^^^^^^^^^^^^^^^^^^^^^^^^^^^^^^^^^^^^^^^^^^^^^^\n",
      "  File \"c:\\Users\\gonca\\anaconda3\\Lib\\site-packages\\IPython\\core\\ultratb.py\", line 1134, in get_records\n",
      "    style = stack_data.style_with_executing_node(style, self._tb_highlight)\n",
      "            ^^^^^^^^^^^^^^^^^^^^^^^^^^^^^^^^^^^^^^^^^^^^^^^^^^^^^^^^^^^^^^^\n",
      "  File \"C:\\Users\\gonca\\AppData\\Roaming\\Python\\Python312\\site-packages\\stack_data\\core.py\", line 455, in style_with_executing_node\n",
      "    class NewStyle(style):\n",
      "  File \"c:\\Users\\gonca\\anaconda3\\Lib\\site-packages\\pygments\\style.py\", line 91, in __new__\n",
      "    ndef[4] = colorformat(styledef[3:])\n",
      "              ^^^^^^^^^^^^^^^^^^^^^^^^^\n",
      "  File \"c:\\Users\\gonca\\anaconda3\\Lib\\site-packages\\pygments\\style.py\", line 58, in colorformat\n",
      "    assert False, \"wrong color format %r\" % text\n",
      "           ^^^^^\n",
      "AssertionError: wrong color format 'ansiyellow'\n"
     ]
    }
   ],
   "source": [
    "selected_columns = [\n",
    "    \"YearMonth\",  \n",
    "    \"MAB_ELE_PRO156\", \"MAB_ELE_SHP156\",  # China\n",
    "    \"MAB_ELE_PRO276\", \"MAB_ELE_SHP276\",  # Germany\n",
    "    \"MAB_ELE_PRO840\", \"MAB_ELE_SHP840\"   # USA\n",
    "]\n",
    "\n",
    "market_data_filtered = market_data[selected_columns].copy()\n",
    "print(market_data_filtered.head())"
   ]
  },
  {
   "cell_type": "markdown",
   "metadata": {},
   "source": [
    "Merge datasets on YearMonth"
   ]
  },
  {
   "cell_type": "code",
   "execution_count": null,
   "metadata": {},
   "outputs": [],
   "source": [
    "df = pd.merge(monthly_sales, market_data, on='YearMonth', how='left')\n",
    "print(df.head())"
   ]
  },
  {
   "cell_type": "markdown",
   "metadata": {},
   "source": [
    "# 5. Feature Engineering"
   ]
  },
  {
   "cell_type": "markdown",
   "metadata": {},
   "source": [
    "Sort data by Mapped_GCK and YearMonth"
   ]
  },
  {
   "cell_type": "code",
   "execution_count": null,
   "metadata": {},
   "outputs": [],
   "source": [
    "df = df.sort_values(by=['Mapped_GCK', 'YearMonth'])"
   ]
  },
  {
   "cell_type": "markdown",
   "metadata": {},
   "source": [
    "Create lagged sales features"
   ]
  },
  {
   "cell_type": "code",
   "execution_count": null,
   "metadata": {},
   "outputs": [],
   "source": [
    "df['Sales_Lag_1M'] = df.groupby('Mapped_GCK')['Sales_EUR'].shift(1)\n",
    "df['Sales_Lag_2M'] = df.groupby('Mapped_GCK')['Sales_EUR'].shift(2)"
   ]
  },
  {
   "cell_type": "markdown",
   "metadata": {},
   "source": [
    "Create rolling average features"
   ]
  },
  {
   "cell_type": "code",
   "execution_count": null,
   "metadata": {},
   "outputs": [],
   "source": [
    "df['Sales_MA_3M'] = df.groupby('Mapped_GCK')['Sales_EUR'].rolling(window=3, min_periods=1).mean().reset_index(level=0, drop=True)"
   ]
  },
  {
   "cell_type": "markdown",
   "metadata": {},
   "source": [
    "Drop rows with NaN values due to shifting"
   ]
  },
  {
   "cell_type": "code",
   "execution_count": null,
   "metadata": {},
   "outputs": [],
   "source": [
    "df.dropna(inplace=True)\n",
    "\n",
    "print(df.head())"
   ]
  },
  {
   "cell_type": "markdown",
   "metadata": {},
   "source": []
  }
 ],
 "metadata": {
  "kernelspec": {
   "display_name": "base",
   "language": "python",
   "name": "python3"
  },
  "language_info": {
   "codemirror_mode": {
    "name": "ipython",
    "version": 3
   },
   "file_extension": ".py",
   "mimetype": "text/x-python",
   "name": "python",
   "nbconvert_exporter": "python",
   "pygments_lexer": "ipython3",
   "version": "3.12.4"
  }
 },
 "nbformat": 4,
 "nbformat_minor": 2
}
