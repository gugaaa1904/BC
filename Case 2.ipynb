{
 "cells": [
  {
   "cell_type": "markdown",
   "metadata": {},
   "source": [
    "# Customer segmentation (clustering)\n",
    "## Hotel Customer Data\n",
    "### This notebook was developed by:\n",
    "\n",
    "- João Venichand - 20211644\n",
    "- Gonçalo Custódio - 20211643\n",
    "- Diogo Correia - 20211586\n",
    "- Duarte Emanuel - 200564"
   ]
  },
  {
   "cell_type": "markdown",
   "metadata": {},
   "source": []
  }
 ],
 "metadata": {
  "language_info": {
   "name": "python"
  }
 },
 "nbformat": 4,
 "nbformat_minor": 2
}
