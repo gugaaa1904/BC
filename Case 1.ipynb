{
 "cells": [
  {
   "cell_type": "markdown",
   "id": "81b86b23-a1ef-4533-a4e2-448ec8096e65",
   "metadata": {},
   "source": [
    "# Customer segmentation (clustering)\n",
    "## Hotel Customer Data\n",
    "### This notebook was developed by:\n",
    "\n",
    "- João Venichand - 20211644\n",
    "- Gonçalo Custódio - 20211643\n",
    "- Diogo Correia - 20211586\n",
    "- Duarte Emanuel - 200564"
   ]
  },
  {
   "cell_type": "markdown",
   "id": "fa95a2ad-a923-41e4-83b9-a0f188d1681c",
   "metadata": {},
   "source": [
    "### Data Description\n",
    "Dataset related to customer behavior and preferences in a hotel context. Contains historical booking patterns, revenue data, and customer-specific preferences.\n",
    "\n",
    "#### Customer Information:\n",
    "- **ID**: Unique customer identifier (numeric)\n",
    "- **Nationality**: Customer nationality (categorical: e.g., 'BRA', 'USA')\n",
    "- **Age**: Customer age (numeric)\n",
    "- **DaysSinceCreation**: Days since the customer account was created (numeric)\n",
    "- **NameHash**: Anonymized hash of the customer’s name (text)\n",
    "- **DocIDHash**: Anonymized hash of the customer’s ID document (text)\n",
    "- **LodgingRevenue**: Total lodging revenue (numeric)\n",
    "- **OtherRevenue**: Total revenue from non-lodging services (e.g., food, spa) (numeric)\n",
    "- **MarketSegment**: Customer market segment (e.g., 'corporate', 'leisure') (categorical)\n",
    "\n",
    "#### Booking Behaviour:\n",
    "- **AverageLeadTime**: Average days between booking and arrival date (numeric)\n",
    "- **BookingsCanceled**: Total canceled bookings by the customer (numeric)\n",
    "- **BookingsNoShowed**: Total \"no-show\" bookings (numeric)\n",
    "- **BookingsCheckedin**: Total bookings that resulted in stays (numeric)\n",
    "- **PersonNights**: Total person-nights stayed (adults + children × nights) (numeric)\n",
    "- **RoomNights**: Total room-nights stayed (rooms × nights) (numeric)\n",
    "- **DistributionChannel**: Booking distribution channel (e.g., 'direct', 'agency') (categorical)\n",
    "\n",
    "#### Customer Preferences (Binary: 0 = No, 1 = Yes)\n",
    "- **SRHighFloor**: Requests rooms on higher floors\n",
    "- **SRLowFloor**: Requests rooms on lower floors\n",
    "- **SRMediumFloor**: Requests rooms on middle floors\n",
    "- **SRAccessibleRoom**: Requests accessible rooms\n",
    "- **SRBathtub**: Requests rooms with bathtubs\n",
    "- **SRShower**: Requests rooms with showers\n",
    "- **SRCrib**: Requests cribs\n",
    "- **SRKingSizeBed**: Requests king-size beds\n",
    "- **SRTwinBed**: Requests twin beds\n",
    "- **SRNearElevator**: Requests rooms near elevators\n",
    "- **SRAwayFromElevator**: Requests rooms away from elevators\n",
    "- **SRNoAlcoholInMiniBar**: Requests mini-bars without alcohol\n",
    "- **SRQuietRoom**: Requests quiet rooms"
   ]
  },
  {
   "cell_type": "markdown",
   "id": "7380d5ac-4fa9-45af-897a-b0dd07a45267",
   "metadata": {},
   "source": [
    "## Importing Libraries\n"
   ]
  },
  {
   "cell_type": "markdown",
   "id": "d0f4f5f7-f5d9-4f00-b44e-93f00be7722a",
   "metadata": {},
   "source": [
    "__`Step 1`__ Import the required libraries."
   ]
  },
  {
   "cell_type": "code",
   "execution_count": 1,
   "id": "b7201b2d-7ba3-46cb-8f68-2d1efc72b111",
   "metadata": {},
   "outputs": [
    {
     "ename": "ModuleNotFoundError",
     "evalue": "No module named 'umap'",
     "output_type": "error",
     "traceback": [
      "\u001b[1;31m---------------------------------------------------------------------------\u001b[0m",
      "\u001b[1;31mModuleNotFoundError\u001b[0m                       Traceback (most recent call last)",
      "Cell \u001b[1;32mIn[1], line 15\u001b[0m\n\u001b[0;32m     13\u001b[0m \u001b[38;5;28;01mfrom\u001b[39;00m \u001b[38;5;21;01msklearn\u001b[39;00m\u001b[38;5;21;01m.\u001b[39;00m\u001b[38;5;21;01mmetrics\u001b[39;00m \u001b[38;5;28;01mimport\u001b[39;00m silhouette_score\n\u001b[0;32m     14\u001b[0m \u001b[38;5;28;01mimport\u001b[39;00m \u001b[38;5;21;01mmatplotlib\u001b[39;00m\u001b[38;5;21;01m.\u001b[39;00m\u001b[38;5;21;01mticker\u001b[39;00m \u001b[38;5;28;01mas\u001b[39;00m \u001b[38;5;21;01mticker\u001b[39;00m\n\u001b[1;32m---> 15\u001b[0m \u001b[38;5;28;01mimport\u001b[39;00m \u001b[38;5;21;01mumap\u001b[39;00m\n\u001b[0;32m     16\u001b[0m \u001b[38;5;28;01mimport\u001b[39;00m \u001b[38;5;21;01mwarnings\u001b[39;00m\n\u001b[0;32m     17\u001b[0m warnings\u001b[38;5;241m.\u001b[39msimplefilter(action\u001b[38;5;241m=\u001b[39m\u001b[38;5;124m'\u001b[39m\u001b[38;5;124mignore\u001b[39m\u001b[38;5;124m'\u001b[39m, category\u001b[38;5;241m=\u001b[39m\u001b[38;5;167;01mFutureWarning\u001b[39;00m)\n",
      "\u001b[1;31mModuleNotFoundError\u001b[0m: No module named 'umap'"
     ]
    }
   ],
   "source": [
    "import pandas as pd \n",
    "import numpy as np\n",
    "import scipy as sc\n",
    "import matplotlib.pyplot as plt\n",
    "from scipy.stats.mstats import winsorize\n",
    "import seaborn as sns\n",
    "import os\n",
    "from sklearn.impute import KNNImputer\n",
    "from sklearn.preprocessing import StandardScaler\n",
    "from sklearn.preprocessing import MinMaxScaler\n",
    "from sklearn.decomposition import PCA\n",
    "from sklearn.cluster import KMeans\n",
    "from sklearn.metrics import silhouette_score\n",
    "import matplotlib.ticker as ticker\n",
    "import umap\n",
    "import warnings\n",
    "warnings.simplefilter(action='ignore', category=FutureWarning)"
   ]
  },
  {
   "cell_type": "markdown",
   "id": "ee751143-552a-4629-ae74-11782f0d2c79",
   "metadata": {},
   "source": [
    "## Data Understanding \n"
   ]
  },
  {
   "cell_type": "markdown",
   "id": "e38b87f6-8193-4e72-859d-d4093e3a53fb",
   "metadata": {},
   "source": [
    "__`Step 2`__ Import the dataset, storing it in the data frame **data**."
   ]
  },
  {
   "cell_type": "code",
   "execution_count": null,
   "id": "4438d07d-87b1-4a92-800f-fb1bc540914a",
   "metadata": {},
   "outputs": [],
   "source": [
    "data = pd.read_csv('Case1_HotelCustomerSegmentation.csv', sep=\";\")\n",
    "data.info()"
   ]
  },
  {
   "cell_type": "markdown",
   "id": "c2b67dd5-bed8-4555-816e-1354753bee9e",
   "metadata": {},
   "source": [
    "__`Step 3`__ Display the data."
   ]
  },
  {
   "cell_type": "code",
   "execution_count": null,
   "id": "e3087019-5008-41ae-80ac-430f8d8f6db1",
   "metadata": {},
   "outputs": [],
   "source": [
    "data.head(5)"
   ]
  },
  {
   "cell_type": "markdown",
   "id": "47cf2d3c-1dcc-4aa4-b7e2-6ef4473b9fe3",
   "metadata": {},
   "source": [
    "__`Step 4`__ Turn the ID into the index of the data."
   ]
  },
  {
   "cell_type": "code",
   "execution_count": null,
   "id": "5514b9cf-7002-4e55-8b99-d285893f48bf",
   "metadata": {},
   "outputs": [],
   "source": [
    "if data['ID'].duplicated().any():\n",
    "    print(\"There are duplicate IDs in the dataset.\")\n",
    "else:\n",
    "    data.set_index('ID', inplace=True)\n",
    "    print(\"customer_id has been successfully set as the index!\")"
   ]
  },
  {
   "cell_type": "markdown",
   "id": "aa2df3ce-f6eb-41f9-a6b5-67041cbb5d0f",
   "metadata": {},
   "source": [
    "__`Step 5`__ Summary statistics for all variables"
   ]
  },
  {
   "cell_type": "code",
   "execution_count": null,
   "id": "8dfc27b0-b6f8-434a-8c05-318ea16d2201",
   "metadata": {},
   "outputs": [],
   "source": [
    "data.describe(include='all').T"
   ]
  },
  {
   "cell_type": "markdown",
   "id": "4ed5fa3e-89d2-4aef-985d-18ebb805a3e8",
   "metadata": {},
   "source": [
    "__`Step 6`__ Check missing values"
   ]
  },
  {
   "cell_type": "code",
   "execution_count": null,
   "id": "2731c9f8-1470-4a61-953d-73546018b36c",
   "metadata": {},
   "outputs": [],
   "source": [
    "print(data.isnull().sum())"
   ]
  },
  {
   "cell_type": "code",
   "execution_count": null,
   "id": "5319120b",
   "metadata": {},
   "outputs": [],
   "source": [
    "binary_columns = [\"SRHighFloor\", \"SRLowFloor\", \"SRAccessibleRoom\", \"SRMediumFloor\", \"SRBathtub\", \"SRShower\", \"SRCrib\", \"SRKingSizeBed\", \"SRTwinBed\", \"SRNearElevator\", \"SRAwayFromElevator\", \"SRNoAlcoholInMiniBar\", \"SRQuietRoom\"]\n",
    "\n",
    "proportions = {}\n",
    "for col in binary_columns:\n",
    "    if col in data.columns:\n",
    "        value_counts = data[col].value_counts(normalize=True) * 100\n",
    "        proportions[col] = {\n",
    "            'Percentagem de 0s': value_counts.get(0, 0),\n",
    "            'Percentagem de 1s': value_counts.get(1, 0)\n",
    "        }\n",
    "\n",
    "percentage_df = pd.DataFrame(proportions).T\n",
    "print(percentage_df)"
   ]
  },
  {
   "cell_type": "markdown",
   "id": "9a409bd5",
   "metadata": {},
   "source": [
    "The only values ​​that are highly relevant are SRKKingSizeBed, SRTwinBed\n",
    "The variables SRHighFloor, SRQuietRoom and SRCrib are somewhat relevant\n",
    "All other variables are very low in 1"
   ]
  },
  {
   "cell_type": "markdown",
   "id": "55159866",
   "metadata": {},
   "source": [
    "BookingsCanceled and BookingsNoShowed are not relevant, which leads us to believe that this is a positive aspect regarding the company. Therefore, our strategy will be to retain existing customers instead of trying to return customers who canceled or simply did not show up."
   ]
  },
  {
   "cell_type": "markdown",
   "id": "55c91b2e-c28e-46b7-a529-41ce05f9f428",
   "metadata": {},
   "source": [
    "__`Step 7`__ Histograms of numeric variables"
   ]
  },
  {
   "cell_type": "code",
   "execution_count": null,
   "id": "f4167b02-1971-4a0a-a7a8-e2392361c73a",
   "metadata": {
    "scrolled": true
   },
   "outputs": [],
   "source": [
    "subPlots_label_fontSize = 12\n",
    "plots_Title_fontSize = 14\n",
    "numerical_data = data.select_dtypes(include=[np.number]).columns.tolist()\n",
    "num_vars = len(numerical_data)\n",
    "num_cols = 5\n",
    "num_rows = (num_vars // num_cols) + (1 if num_vars % num_cols != 0 else 0)\n",
    "fig, ax = plt.subplots(num_rows, num_cols, figsize=(18, 4 * num_rows))\n",
    "ax = ax.flatten()\n",
    "\n",
    "for i, var in enumerate(numerical_data):\n",
    "    sns.histplot(data=data,\n",
    "                 bins=20,\n",
    "                 x=var,\n",
    "                 ax=ax[i],\n",
    "                 kde=False)\n",
    "    ax[i].set_title(var, fontsize=subPlots_label_fontSize)\n",
    "\n",
    "for j in range(i + 1, len(ax)):\n",
    "    ax[j].axis('off')\n",
    "\n",
    "sns.despine()\n",
    "plt.rc('axes', labelsize=subPlots_label_fontSize)\n",
    "fig.suptitle(\"Histograms with 20 bins of all numeric variables\", fontsize=plots_Title_fontSize)\n",
    "plt.tight_layout()\n",
    "plt.show()"
   ]
  },
  {
   "cell_type": "markdown",
   "id": "5236ea91-787e-4924-87cc-046a3a144d51",
   "metadata": {},
   "source": [
    "__`Step 8`__ Boxplot of numeric variables"
   ]
  },
  {
   "cell_type": "code",
   "execution_count": null,
   "id": "f59b4e65-6f87-4998-8015-344271fce218",
   "metadata": {
    "scrolled": true
   },
   "outputs": [],
   "source": [
    "fig, ax = plt.subplots(num_rows, num_cols, figsize=(18, 4 * num_rows))\n",
    "ax = ax.flatten()\n",
    "\n",
    "for i, var in enumerate(numerical_data):\n",
    "    sns.boxplot(data=data, x=var, ax=ax[i])\n",
    "    ax[i].set_title(var, fontsize=subPlots_label_fontSize)\n",
    "\n",
    "for j in range(i + 1, len(ax)):\n",
    "    ax[j].axis('off')\n",
    "\n",
    "sns.despine()\n",
    "fig.suptitle(\"Boxplots of all numeric variables\", fontsize=plots_Title_fontSize)\n",
    "plt.tight_layout()\n",
    "plt.show()"
   ]
  },
  {
   "cell_type": "markdown",
   "id": "89d9f545-1610-4611-9039-0c73d7680e1e",
   "metadata": {},
   "source": [
    "__`Step 9`__ Check if the Customer Preferences have only binary values (0 or 1)"
   ]
  },
  {
   "cell_type": "code",
   "execution_count": null,
   "id": "0eccad14-149f-40fe-9d91-2c7d25afb092",
   "metadata": {},
   "outputs": [],
   "source": [
    "preferences_cols = [\n",
    "    'SRHighFloor', 'SRLowFloor', 'SRMediumFloor', 'SRAccessibleRoom',\n",
    "    'SRBathtub', 'SRShower', 'SRCrib', 'SRKingSizeBed', 'SRTwinBed',\n",
    "    'SRNearElevator', 'SRAwayFromElevator', 'SRNoAlcoholInMiniBar', 'SRQuietRoom'\n",
    "]\n",
    "\n",
    "for col in preferences_cols:\n",
    "    unique_values = data[col].unique()\n",
    "    if not set(unique_values).issubset({0, 1}):\n",
    "        print(f\"Column {col} contains values other than 0 and 1: {unique_values}\")"
   ]
  },
  {
   "cell_type": "markdown",
   "id": "e363ff61-40ae-4270-acae-f6a0bf6d2a70",
   "metadata": {},
   "source": [
    "__`Step 10`__ Distribution of the variables with binary values (0 or 1)"
   ]
  },
  {
   "cell_type": "code",
   "execution_count": null,
   "id": "c696675a-f798-483f-a0d6-d3164931e7bc",
   "metadata": {
    "scrolled": true
   },
   "outputs": [],
   "source": [
    "for col in preferences_cols:\n",
    "    print(f\"Value counts for {col}:\")\n",
    "    print(data[col].value_counts(dropna=False))\n",
    "    print(\"-\" * 40)"
   ]
  },
  {
   "cell_type": "markdown",
   "id": "aa7dd83d-8ce4-4e8a-99e0-f12b8d17259e",
   "metadata": {},
   "source": [
    "__`Step 11`__ Distribution of the categorical variables"
   ]
  },
  {
   "cell_type": "code",
   "execution_count": null,
   "id": "bcba3df6-34f6-456d-96e5-cc3223b60137",
   "metadata": {
    "scrolled": true
   },
   "outputs": [],
   "source": [
    "ordered_columns = ['DistributionChannel', 'MarketSegment', 'Nationality', 'NameHash', 'DocIDHash']\n",
    "\n",
    "for col in ordered_columns:\n",
    "    print(f\"Unique value counts for '{col}':\")\n",
    "    print(data[col].value_counts(dropna=False))\n",
    "    print(\"-\" * 40)"
   ]
  },
  {
   "cell_type": "markdown",
   "id": "df6310d9-c502-4e1e-bf1d-682c17049dff",
   "metadata": {},
   "source": [
    "__`Step 12`__ Plot the distribution of categorical values"
   ]
  },
  {
   "cell_type": "code",
   "execution_count": null,
   "id": "bc494730-b685-4739-a7e4-0bb7b888c4a8",
   "metadata": {},
   "outputs": [],
   "source": [
    "fig, axes = plt.subplots(1, 2, figsize=(15, 6))\n",
    "dist_order = data['DistributionChannel'].value_counts().index\n",
    "market_order = data['MarketSegment'].value_counts().index\n",
    "\n",
    "sns.countplot(data=data, x='DistributionChannel', ax=axes[0], order=dist_order)\n",
    "axes[0].set_title(\"DistributionChannel Counts\")\n",
    "axes[0].set_xlabel(\"\")\n",
    "axes[0].set_ylabel(\"Count\")\n",
    "sns.countplot(data=data, x='MarketSegment', ax=axes[1], order=market_order)\n",
    "axes[1].set_title(\"MarketSegment Counts\")\n",
    "axes[1].set_xlabel(\"\")\n",
    "axes[1].set_ylabel(\"Count\")\n",
    "plt.tight_layout()\n",
    "plt.show()"
   ]
  },
  {
   "cell_type": "markdown",
   "id": "5f8bc0a9-8b59-4ae3-8013-0ec1b782f2b5",
   "metadata": {},
   "source": [
    "__`Step 12.1`__ Plot the distribution of categorical values"
   ]
  },
  {
   "cell_type": "code",
   "execution_count": null,
   "id": "9cab6743-ae20-48df-a52c-05fbead69361",
   "metadata": {},
   "outputs": [],
   "source": [
    "nat_counts = data['Nationality'].value_counts()\n",
    "top_n = 25\n",
    "top_nats = nat_counts.nlargest(top_n)\n",
    "others = nat_counts.sum() - top_nats.sum()\n",
    "sorted_top_nats = top_nats.sort_values(ascending=False)\n",
    "others_series = pd.Series({'Others': others})\n",
    "plot_data = pd.concat([sorted_top_nats, others_series])\n",
    "order_list = list(sorted_top_nats.index) + ['Others']\n",
    "\n",
    "plt.figure(figsize=(12, 8))\n",
    "ax = sns.barplot(x=order_list, y=plot_data[order_list].values)\n",
    "max_count = plot_data.max()\n",
    "y_ticks = range(0, int(max_count) + 2500, 2500)\n",
    "\n",
    "for y in y_ticks:\n",
    "    ax.axhline(y=y, color='white', linewidth=0.5, zorder=10)\n",
    "\n",
    "plt.xlabel(\"Nationality\")\n",
    "plt.ylabel(\"Count\")\n",
    "plt.title(\"Nationalities (Top 25)\")\n",
    "plt.show()"
   ]
  },
  {
   "cell_type": "code",
   "execution_count": null,
   "id": "42387973-f17e-4242-917b-c1fa42350feb",
   "metadata": {},
   "outputs": [],
   "source": [
    "print(data['BookingsNoShowed'].value_counts())"
   ]
  },
  {
   "cell_type": "code",
   "execution_count": null,
   "id": "f16f5f79",
   "metadata": {
    "scrolled": true
   },
   "outputs": [],
   "source": [
    "print(data['BookingsCheckedIn'].value_counts())"
   ]
  },
  {
   "cell_type": "markdown",
   "id": "bd96747e-b5e8-441c-92be-78c63114569d",
   "metadata": {},
   "source": [
    "# Data Preparation"
   ]
  },
  {
   "cell_type": "markdown",
   "id": "f3a629fc",
   "metadata": {},
   "source": [
    "### Missing Values Handling"
   ]
  },
  {
   "cell_type": "code",
   "execution_count": null,
   "id": "c71d552c",
   "metadata": {},
   "outputs": [],
   "source": [
    "data['Age'] = data['Age'].fillna(data['Age'].median())\n",
    "data = data.dropna(subset=['DocIDHash'])"
   ]
  },
  {
   "cell_type": "markdown",
   "id": "7250734b",
   "metadata": {},
   "source": [
    "Testar o KNN ?"
   ]
  },
  {
   "cell_type": "code",
   "execution_count": null,
   "id": "bdb082aa",
   "metadata": {
    "scrolled": true
   },
   "outputs": [],
   "source": [
    "print(data.isnull().sum())"
   ]
  },
  {
   "cell_type": "markdown",
   "id": "e8a9012a-7467-4410-88c2-fecfbb04abd9",
   "metadata": {},
   "source": [
    "Remove Negative Values"
   ]
  },
  {
   "cell_type": "code",
   "execution_count": null,
   "id": "3c875f08-cb08-4d8f-af44-74146bcac825",
   "metadata": {},
   "outputs": [],
   "source": [
    "numerical_cols = data.select_dtypes(include=['number']).columns\n",
    "data[numerical_cols] = data[numerical_cols].clip(lower=0)\n",
    "negative_values = (data[numerical_cols] < 0).sum()\n",
    "\n",
    "print(\"Negative values after correction:\\n\", negative_values)"
   ]
  },
  {
   "cell_type": "markdown",
   "id": "9fe14f62",
   "metadata": {},
   "source": [
    "### Duplicate Values Handling"
   ]
  },
  {
   "cell_type": "markdown",
   "id": "691f0ae8",
   "metadata": {},
   "source": [
    "Handle Duplicate DocIDHash Entries"
   ]
  },
  {
   "cell_type": "code",
   "execution_count": null,
   "id": "7e52c712-ba6e-4901-aa6f-11676b93671e",
   "metadata": {},
   "outputs": [],
   "source": [
    "duplicated_clients = data['DocIDHash'].value_counts()\n",
    "duplicated_clients = duplicated_clients[duplicated_clients > 1].index\n",
    "data = data[~data['DocIDHash'].isin(duplicated_clients)]\n",
    "\n",
    "print(f\"Final dataset size after removing duplicate customers: {data.shape[0]} rows\")"
   ]
  },
  {
   "cell_type": "markdown",
   "id": "9880929a-bf20-43d7-8df0-17f383fa7345",
   "metadata": {},
   "source": [
    "Check BookingsCanceled and BookingsNoShowed"
   ]
  },
  {
   "cell_type": "code",
   "execution_count": null,
   "id": "a261ffb3-3433-4150-9322-27ced653feb8",
   "metadata": {},
   "outputs": [],
   "source": [
    "canceled_counts = data['BookingsCanceled'].value_counts()\n",
    "no_show_counts = data['BookingsNoShowed'].value_counts()\n",
    "\n",
    "print(\"Unique values and their counts in BookingsCanceled:\")\n",
    "print(canceled_counts, \"\\n\")\n",
    "print(\"Unique values and their counts in BookingsNoShowed:\")\n",
    "print(no_show_counts)"
   ]
  },
  {
   "cell_type": "markdown",
   "id": "32bf7a19-dce2-422d-9a8b-9491f88dc57f",
   "metadata": {},
   "source": [
    "*We will not use the variables BookingsCanceled and BookingsNoShowed because their distributions indicate that cancellations and no-shows are extremely rare events in our dataset. The vast majority of values are zero, while the occurrences of 1, 2, or 3 are minimal.*"
   ]
  },
  {
   "cell_type": "markdown",
   "id": "5a0833c6-e682-4a92-a920-527ca7585935",
   "metadata": {},
   "source": [
    "### Outliers Handling"
   ]
  },
  {
   "cell_type": "code",
   "execution_count": null,
   "id": "117aa759-96ea-4e82-b5f5-23bbd58f275a",
   "metadata": {},
   "outputs": [],
   "source": [
    "data = data[((data['Age'] >= 0) & (data['Age'] <= 100))]"
   ]
  },
  {
   "cell_type": "markdown",
   "id": "36f30f07-006c-4515-9c80-825f37929ed3",
   "metadata": {},
   "source": [
    "Outliers in (PersonsNights < RoomNights)"
   ]
  },
  {
   "cell_type": "code",
   "execution_count": null,
   "id": "293479e0-e20b-4f4d-92fa-57fb8b4880d7",
   "metadata": {},
   "outputs": [],
   "source": [
    "invalid_rows = data[data['PersonsNights'] < data['RoomNights']]\n",
    "data = data[data['PersonsNights'] >= data['RoomNights']]\n",
    "\n",
    "print(f\"Rows eliminated due to PersonsNights < RoomNights: {invalid_rows.shape[0]}\")"
   ]
  },
  {
   "cell_type": "markdown",
   "id": "82437560-cd74-403d-9af4-eb52cb20020b",
   "metadata": {},
   "source": [
    "Non-Customer Group"
   ]
  },
  {
   "cell_type": "code",
   "execution_count": null,
   "id": "467b6aa5-363b-4a8f-b83f-6f77c212509c",
   "metadata": {},
   "outputs": [],
   "source": [
    "valid_customers = data[\n",
    "    (data['BookingsCheckedIn'] == 0) & \n",
    "    ((data['LodgingRevenue'] > 0) | (data['OtherRevenue'] > 0))\n",
    "].copy()\n",
    "\n",
    "print(f\"Number of valid customers: {valid_customers.shape[0]}\")"
   ]
  },
  {
   "cell_type": "code",
   "execution_count": null,
   "id": "9ff70710-f396-403d-876c-585088d24fd1",
   "metadata": {},
   "outputs": [],
   "source": [
    "profiles_no_checkin = data[data['BookingsCheckedIn'] == 0].copy()\n",
    "data = data[data['BookingsCheckedIn'] != 0]"
   ]
  },
  {
   "cell_type": "code",
   "execution_count": null,
   "id": "d9669865-cb2b-4fec-b648-68e64a61a0fb",
   "metadata": {},
   "outputs": [],
   "source": [
    "print(f\"Number of profiles removed (no check-ins): {profiles_no_checkin.shape[0]}\")\n",
    "print(f\"Number of profiles remaining: {data.shape[0]}\")"
   ]
  },
  {
   "cell_type": "markdown",
   "id": "cbdaaee8-15f6-4d39-8768-b3aaf65214a5",
   "metadata": {},
   "source": [
    "Analyse BookingsCheckedIn"
   ]
  },
  {
   "cell_type": "code",
   "execution_count": null,
   "id": "74d0a576-382a-4ac6-9aa5-eb4b4c50c196",
   "metadata": {},
   "outputs": [],
   "source": [
    "checked_in_counts = data['BookingsCheckedIn'].value_counts()\n",
    "print(checked_in_counts)"
   ]
  },
  {
   "cell_type": "markdown",
   "id": "9fcbac18-2a2c-4b21-b82e-af3d00485b5b",
   "metadata": {},
   "source": [
    "Cap and Log Transformation"
   ]
  },
  {
   "cell_type": "code",
   "execution_count": null,
   "id": "7dcb9370-1e5d-4da1-963a-d177fdb8781b",
   "metadata": {},
   "outputs": [],
   "source": [
    "data['LodgingRevenue'] = data['LodgingRevenue'].clip(upper=6000)\n",
    "data['OtherRevenue'] = data['OtherRevenue'].clip(upper=3000)\n",
    "data['AverageLeadTime'] = data['AverageLeadTime'].clip(upper=300)\n",
    "data['PersonsNights'] = data['PersonsNights'].clip(upper=35)\n",
    "data['RoomNights'] = data['RoomNights'].clip(upper=30)\n",
    "\n",
    "\"\"\"Se vale a pena meter a mediana para os valores extremos\"\"\"\n",
    "\"\"\"Testar com o LodgingRevenue_Log tirar os valores zero\"\"\"\n",
    "\n",
    "data[\"LodgingRevenue_Log\"] = np.log1p(data[\"LodgingRevenue\"])\n",
    "data['OtherRevenue_Log'] = np.log1p(data['OtherRevenue'])\n",
    "data['AverageLeadTime_Log'] = np.log1p(data['AverageLeadTime'])\n",
    "data['PersonsNights_Log'] = np.log1p(data['PersonsNights'])\n",
    "data['RoomNights_Log'] = np.log1p(data['RoomNights'])"
   ]
  },
  {
   "cell_type": "code",
   "execution_count": null,
   "id": "fe5b9899-2a74-44f0-b661-a0b69f865bee",
   "metadata": {},
   "outputs": [],
   "source": [
    "data.drop(columns=['LodgingRevenue', 'OtherRevenue', 'AverageLeadTime', 'PersonsNights', 'RoomNights'], inplace=True)"
   ]
  },
  {
   "cell_type": "markdown",
   "id": "80e6c9bd-9e23-4c46-8ef1-a91eb32ba65b",
   "metadata": {},
   "source": [
    "IQR Method"
   ]
  },
  {
   "cell_type": "code",
   "execution_count": null,
   "id": "402c1b25-c4dd-4071-a8cb-8335b7dbd2b6",
   "metadata": {},
   "outputs": [],
   "source": [
    "\"\"\"numerical_cols = data.select_dtypes(include=[np.number]).columns.tolist()\n",
    "\n",
    "def remove_outliers_iqr(df, columns):\n",
    "    for col in columns:\n",
    "        Q1 = df[col].quantile(0.25)\n",
    "        Q3 = df[col].quantile(0.75)\n",
    "        IQR = Q3 - Q1\n",
    "        lower_bound = Q1 - 1.5 * IQR\n",
    "        upper_bound = Q3 + 1.5 * IQR\n",
    "        df = df[(df[col] >= lower_bound) & (df[col] <= upper_bound)]\n",
    "    return df\n",
    "\n",
    "data = remove_outliers_iqr(data, numerical_cols)\n",
    "print(f\"Dataset size after IQR-based outlier removal: {data.shape[0]} rows\")\"\"\""
   ]
  },
  {
   "cell_type": "markdown",
   "id": "2539adb4",
   "metadata": {},
   "source": [
    "# Outliers Check"
   ]
  },
  {
   "cell_type": "code",
   "execution_count": null,
   "id": "dbfb7ba0",
   "metadata": {},
   "outputs": [],
   "source": [
    "numerical_data = data.select_dtypes(include=[np.number]).columns.tolist()\n",
    "num_vars = len(numerical_data)\n",
    "num_cols = 5\n",
    "num_rows = (num_vars // num_cols) + (1 if num_vars % num_cols != 0 else 0)\n",
    "fig, ax = plt.subplots(num_rows, num_cols, figsize=(18, 4 * num_rows))\n",
    "ax = ax.flatten()\n",
    "\n",
    "for i, var in enumerate(numerical_data):\n",
    "    sns.boxplot(data=data, x=var, ax=ax[i])\n",
    "    ax[i].set_title(var, fontsize=12)\n",
    "\n",
    "for j in range(i + 1, len(ax)):\n",
    "    ax[j].axis('off')\n",
    "\n",
    "sns.despine()\n",
    "plt.suptitle(\"Boxplots of Numeric Variables\", fontsize=14)\n",
    "plt.tight_layout()\n",
    "plt.show()"
   ]
  },
  {
   "cell_type": "markdown",
   "id": "85d602f6",
   "metadata": {},
   "source": [
    "1️⃣ Re-run IQR filtering on the log-transformed featuresv\n",
    "\n",
    "2️⃣ Use epsilon = 1e-3 for zero-value handling in logs\n",
    "\n",
    "3️⃣ Consider Winsorization instead of clip() for smoother capping"
   ]
  },
  {
   "cell_type": "markdown",
   "id": "f2aa7ae0",
   "metadata": {},
   "source": [
    "# Scaling"
   ]
  },
  {
   "cell_type": "code",
   "execution_count": null,
   "id": "8dd385b5",
   "metadata": {},
   "outputs": [],
   "source": [
    "\"\"\"# Update feature list to use log-transformed versions\n",
    "features_to_scale = [\n",
    "    'Age', 'DaysSinceCreation', 'BookingsCheckedIn', \n",
    "    'LodgingRevenue_Log', 'OtherRevenue_Log', 'AverageLeadTime_Log', \n",
    "    'PersonsNights_Log', 'RoomNights_Log'\n",
    "]\n",
    "\n",
    "# Select only available features\n",
    "available_features = [col for col in features_to_scale if col in data.columns]\n",
    "\n",
    "# Apply StandardScaler\n",
    "scaler = StandardScaler()\n",
    "data[available_features] = scaler.fit_transform(data[available_features])\"\"\""
   ]
  },
  {
   "cell_type": "markdown",
   "id": "cee00fa3",
   "metadata": {},
   "source": [
    "# Correlations"
   ]
  },
  {
   "cell_type": "code",
   "execution_count": null,
   "id": "1835ba21",
   "metadata": {},
   "outputs": [],
   "source": [
    "numerical_cols = data.select_dtypes(include=['number']).columns\n",
    "corr_matrix = data[numerical_cols].corr()\n",
    "\n",
    "plt.figure(figsize=(12, 8))\n",
    "sns.heatmap(corr_matrix, annot=True, fmt=\".2f\", cmap=\"coolwarm\", linewidths=0.5)\n",
    "plt.title(\"Feature Correlation Matrix\")\n",
    "plt.show()"
   ]
  },
  {
   "cell_type": "markdown",
   "id": "36210f8c",
   "metadata": {},
   "source": [
    "### Merge Features based on the Correlation"
   ]
  },
  {
   "cell_type": "code",
   "execution_count": null,
   "id": "1b92b5be",
   "metadata": {},
   "outputs": [],
   "source": [
    "data[\"TotalNights_Log\"] = data[\"PersonsNights_Log\"] + data[\"RoomNights_Log\"]\n",
    "data.drop(columns=[\"PersonsNights_Log\", \"RoomNights_Log\"], inplace=True)"
   ]
  },
  {
   "cell_type": "code",
   "execution_count": null,
   "id": "ce2bc9ef",
   "metadata": {},
   "outputs": [],
   "source": [
    "data[\"TotalRevenue_Log\"] = data[\"LodgingRevenue_Log\"] + data[\"OtherRevenue_Log\"]\n",
    "data.drop(columns=[\"LodgingRevenue_Log\", \"OtherRevenue_Log\"], inplace=True)"
   ]
  },
  {
   "cell_type": "markdown",
   "id": "03825803",
   "metadata": {},
   "source": [
    "Testar se ao fazer merge destas 2 novas features vai influenciar o clustering"
   ]
  },
  {
   "cell_type": "markdown",
   "id": "cf9916eb",
   "metadata": {},
   "source": [
    "# One-Hot Encoding (Categorical Variables)"
   ]
  },
  {
   "cell_type": "code",
   "execution_count": null,
   "id": "b3e309b2",
   "metadata": {},
   "outputs": [],
   "source": [
    "data = pd.get_dummies(data, columns=['DistributionChannel'], drop_first=False)\n",
    "\n",
    "print(\"One-Hot Encoding applied successfully!\")"
   ]
  },
  {
   "cell_type": "code",
   "execution_count": null,
   "id": "7955b9bc-fc2f-4130-8808-e0167b88752b",
   "metadata": {},
   "outputs": [],
   "source": [
    "encoded_distribution = data.filter(like='DistributionChannel').sum()\n",
    "\n",
    "print(\"Count of 1s in One-Hot Encoded Nationality Variables:\\n\", encoded_distribution)"
   ]
  },
  {
   "cell_type": "markdown",
   "id": "7a2b7d91",
   "metadata": {},
   "source": [
    "### \"Nationality\" Handling"
   ]
  },
  {
   "cell_type": "code",
   "execution_count": null,
   "id": "9b3665b2-5ddc-4f04-870e-8d788ddf20db",
   "metadata": {},
   "outputs": [],
   "source": [
    "filtered_data = data[data['Nationality'] != 'Other']\n",
    "nationality_counts = filtered_data['Nationality'].value_counts(normalize=True) * 100\n",
    "threshold_value = nationality_counts[nationality_counts > 7.5].index  \n",
    "\n",
    "data['Nationality_Processed'] = data['Nationality'].apply(\n",
    "    lambda x: x if x in threshold_value else 'Other'\n",
    ")\n",
    "\n",
    "data = pd.get_dummies(data, columns=['Nationality_Processed'], drop_first=False)"
   ]
  },
  {
   "cell_type": "markdown",
   "id": "cbc752dc",
   "metadata": {},
   "source": [
    "Testar com cumulative distribution"
   ]
  },
  {
   "cell_type": "code",
   "execution_count": null,
   "id": "cdf96b0a",
   "metadata": {},
   "outputs": [],
   "source": [
    "\"\"\"# Calculate cumulative distribution\n",
    "cumulative_threshold = 0.90  # Keep nationalities covering 90% of customers\n",
    "nationality_counts = data[\"Nationality\"].value_counts(normalize=True)\n",
    "cumulative_counts = nationality_counts.cumsum()\n",
    "selected_nationalities = cumulative_counts[cumulative_counts <= cumulative_threshold].index\n",
    "\n",
    "# Apply the new dynamic threshold\n",
    "data[\"Nationality_Processed\"] = data[\"Nationality\"].apply(lambda x: x if x in selected_nationalities else \"Other\")\n",
    "\n",
    "# One-Hot Encoding\n",
    "data = pd.get_dummies(data, columns=[\"Nationality_Processed\"], drop_first=False)\n",
    "\"\"\""
   ]
  },
  {
   "cell_type": "code",
   "execution_count": null,
   "id": "e7e31b5e-fe4f-433c-819b-cd94f72a41e3",
   "metadata": {},
   "outputs": [],
   "source": [
    "encoded_nationality_counts = data.filter(like='Nationality_Processed_').sum()\n",
    "\n",
    "print(\"Count of 1s in One-Hot Encoded Nationality Variables:\\n\", encoded_nationality_counts)"
   ]
  },
  {
   "cell_type": "markdown",
   "id": "dd1b5368-910c-4e59-8fad-226f5b4caef6",
   "metadata": {},
   "source": [
    "# Feature Selection"
   ]
  },
  {
   "cell_type": "code",
   "execution_count": null,
   "id": "fcc88a4e-6c4e-42d8-9c93-dc3791340b4e",
   "metadata": {
    "scrolled": true
   },
   "outputs": [],
   "source": [
    "print(\"List of variables in the dataset:\\n\")\n",
    "for col in data.columns:\n",
    "    print(col)"
   ]
  },
  {
   "cell_type": "code",
   "execution_count": null,
   "id": "81f09271-b2ed-4174-9207-7faa10d59267",
   "metadata": {},
   "outputs": [],
   "source": [
    "columns_to_drop = [\n",
    "    'NameHash', 'DocIDHash', 'BookingsCanceled', 'BookingsNoShowed', 'MarketSegment',\n",
    "    'SRHighFloor', 'SRLowFloor', 'SRAccessibleRoom', 'SRMediumFloor', 'SRBathtub',\n",
    "    'SRShower', 'SRCrib', 'SRNearElevator', 'SRAwayFromElevator', 'SRNoAlcoholInMiniBar', \"Nationality\"\n",
    "]\n",
    "\n",
    "data.drop(columns=columns_to_drop, inplace=True)"
   ]
  },
  {
   "cell_type": "code",
   "execution_count": null,
   "id": "0002d3a1-dfe9-4b3e-9dff-060b1e8b8ed8",
   "metadata": {},
   "outputs": [],
   "source": [
    "print(\"List of variables in the dataset:\\n\")\n",
    "for col in data.columns:\n",
    "    print(col)"
   ]
  },
  {
   "cell_type": "markdown",
   "id": "38f49657",
   "metadata": {},
   "source": [
    "### Min Max Scaling for the selected Features"
   ]
  },
  {
   "cell_type": "code",
   "execution_count": null,
   "id": "e2fa126d-0e68-4f5f-9fa2-c0b0bd451753",
   "metadata": {},
   "outputs": [],
   "source": [
    "scaler = MinMaxScaler()\n",
    "data[:] = scaler.fit_transform(data)"
   ]
  },
  {
   "cell_type": "markdown",
   "id": "e0546e75",
   "metadata": {},
   "source": [
    "### PCA"
   ]
  },
  {
   "cell_type": "code",
   "execution_count": null,
   "id": "899bcd19-0048-43d7-b3b2-b73553e10c5e",
   "metadata": {},
   "outputs": [],
   "source": [
    "pca2 = PCA(n_components=2)\n",
    "X_pca2 = pca2.fit_transform(data)\n",
    "\n",
    "plt.figure(figsize=(8, 6))\n",
    "plt.scatter(X_pca2[:, 0], X_pca2[:, 1], edgecolor='none', alpha=0.5, cmap='viridis')\n",
    "plt.xlabel('Component 1')\n",
    "plt.ylabel('Component 2')\n",
    "plt.title(\"PCA Visualization with Two Components\")\n",
    "plt.colorbar()\n",
    "plt.show()"
   ]
  },
  {
   "cell_type": "code",
   "execution_count": null,
   "id": "d310f40e-6cce-4dce-991a-bb5374799451",
   "metadata": {},
   "outputs": [],
   "source": [
    "pca = PCA().fit(data)\n",
    "pcaevr = ['{:f}'.format(item) for item in pca.explained_variance_ratio_]\n",
    "pcaDF = pd.DataFrame({\n",
    "    'Component': range(1, len(data.columns) + 1),\n",
    "    'Variance explained': pcaevr,\n",
    "    'Cumulative variance explained': np.cumsum(pca.explained_variance_ratio_)\n",
    "})\n",
    "\n",
    "pcaDF"
   ]
  },
  {
   "cell_type": "code",
   "execution_count": null,
   "id": "e14c99af-4ca9-4ffc-964d-58bfc35c1dd9",
   "metadata": {},
   "outputs": [],
   "source": [
    "fig, ax = plt.subplots(figsize=(5, 4))\n",
    "plt.plot(np.cumsum(pca.explained_variance_ratio_), marker='o', linestyle='-')\n",
    "sns.despine()\n",
    "plt.xlabel('Number of Components')\n",
    "plt.ylabel('Variance Explained')\n",
    "plt.title('Explained Variance by Components')\n",
    "plt.show()"
   ]
  },
  {
   "cell_type": "code",
   "execution_count": null,
   "id": "72926bbb-191d-466f-ab2a-f8d61b8b4e54",
   "metadata": {},
   "outputs": [],
   "source": [
    "pca_reduced = PCA(n_components=10)\n",
    "pca_reduced.fit(data)\n",
    "X_pca_reduced = pca_reduced.transform(data) \n",
    "print(X_pca_reduced.shape)"
   ]
  },
  {
   "cell_type": "markdown",
   "id": "c81868a2",
   "metadata": {},
   "source": [
    "# Clustering"
   ]
  },
  {
   "cell_type": "markdown",
   "id": "9d3d97c9",
   "metadata": {},
   "source": [
    "### K-Means"
   ]
  },
  {
   "cell_type": "code",
   "execution_count": null,
   "id": "c1bac56e-fe38-481b-90ae-beabced554ed",
   "metadata": {},
   "outputs": [],
   "source": [
    "k_values = range(1, 20)\n",
    "inertia_values = []\n",
    "\n",
    "for k in k_values:\n",
    "    kmeans = KMeans(n_clusters=k, random_state=123, n_init=10)\n",
    "    kmeans.fit(X_pca_reduced)\n",
    "    inertia_values.append(kmeans.inertia_)\n",
    "\n",
    "plt.figure(figsize=(8, 5))\n",
    "plt.plot(k_values, inertia_values, marker='o', linestyle='-', color='b')\n",
    "plt.xlabel(\"Number of Clusters (K)\")\n",
    "plt.ylabel(\"Inertia (Sum of Squared Distances)\")\n",
    "plt.title(\"Elbow Method for Optimal K\")\n",
    "plt.xticks(k_values)\n",
    "plt.grid()\n",
    "plt.show()"
   ]
  },
  {
   "cell_type": "markdown",
   "id": "69eb16e5",
   "metadata": {},
   "source": [
    "K = 5 is the best choice based on the elbow method"
   ]
  },
  {
   "cell_type": "code",
   "execution_count": null,
   "id": "42965b7a",
   "metadata": {},
   "outputs": [],
   "source": [
    "\"\"\"sil = []\n",
    "\n",
    "for k in range(2, 10):\n",
    "    km = KMeans(n_clusters=k, random_state=123).fit(X_pca_reduced)\n",
    "    labels = km.labels_\n",
    "    sil.append(silhouette_score(X_pca_reduced, labels, metric='euclidean'))\n",
    "\n",
    "fig, ax = plt.subplots(figsize=(5, 4))\n",
    "plt.plot(range(2, 10), sil, 'bx-')\n",
    "\n",
    "sns.despine()\n",
    "fmt = \"{x:,.2f}\"\n",
    "tick = ticker.StrMethodFormatter(fmt)\n",
    "ax.yaxis.set_major_formatter(tick)\n",
    "plt.xlabel('K')\n",
    "plt.ylabel('Silhouette Score')\n",
    "plt.title('Silhouette Method - Reduced Dimensionality')\n",
    "ax.xaxis.set_major_locator(ticker.MaxNLocator(integer=True))\n",
    "plt.show()\"\"\""
   ]
  },
  {
   "cell_type": "code",
   "execution_count": null,
   "id": "a4f40743-096e-4036-9a93-bc24dec7208c",
   "metadata": {},
   "outputs": [],
   "source": [
    "K = 5\n",
    "kmeans = KMeans(n_clusters=K, random_state=123)\n",
    "allDistances = kmeans.fit_transform(X_pca_reduced)\n",
    "y_kmeans = kmeans.predict(X_pca_reduced)"
   ]
  },
  {
   "cell_type": "markdown",
   "id": "2e9005cd",
   "metadata": {},
   "source": [
    "### Check Cluster Distributions"
   ]
  },
  {
   "cell_type": "code",
   "execution_count": null,
   "id": "c5628386-db51-4c26-9792-aa336b661af5",
   "metadata": {},
   "outputs": [],
   "source": [
    "\"\"\"from yellowbrick.cluster import SilhouetteVisualizer\n",
    "\n",
    "# Visualize Silhouette - see https://www.scikit-yb.org/en/latest/api/cluster/silhouette.html\n",
    "visualizer = SilhouetteVisualizer(kmeans, colors='yellowbrick')\n",
    "visualizer.fit(X_pca_reduced)\n",
    "visualizer.show()\"\"\""
   ]
  },
  {
   "cell_type": "code",
   "execution_count": null,
   "id": "628c2e3e",
   "metadata": {},
   "outputs": [],
   "source": [
    "cluster_counts = pd.Series(y_kmeans).value_counts().sort_index()\n",
    "\n",
    "print(\"Cluster Distribution:\\n\", cluster_counts)\n",
    "\n",
    "plt.figure(figsize=(8, 5))\n",
    "cluster_counts.plot(kind='bar', color='royalblue', edgecolor='black')\n",
    "plt.xlabel(\"Cluster\")\n",
    "plt.ylabel(\"Number of Customers\")\n",
    "plt.title(\"Cluster Distribution of Customers\")\n",
    "plt.xticks(rotation=0)\n",
    "plt.grid(axis='y', linestyle='--', alpha=0.7)\n",
    "plt.show()"
   ]
  },
  {
   "cell_type": "code",
   "execution_count": null,
   "id": "96705dcc-7e7b-463b-b2fb-e53a444a5b63",
   "metadata": {},
   "outputs": [],
   "source": [
    "plt.figure(figsize=(8, 6))\n",
    "plt.scatter(X_pca_reduced[:, 0], X_pca_reduced[:, 1], c=y_kmeans, cmap='viridis', edgecolor='k', alpha=0.6)\n",
    "plt.xlabel('Component 1')\n",
    "plt.ylabel('Component 2')\n",
    "plt.title(f'K-Means Clustering with K={K} (PCA-Reduced Data)')\n",
    "plt.colorbar(label=\"Cluster\")\n",
    "plt.show()"
   ]
  },
  {
   "cell_type": "code",
   "execution_count": null,
   "id": "b40dba74-08df-4314-b2d1-022a6b56a5f0",
   "metadata": {},
   "outputs": [],
   "source": [
    "umap_reducer = umap.UMAP(n_components=2, random_state=123)\n",
    "X_umap = umap_reducer.fit_transform(X_pca_reduced)  # Using the PCA-reduced data for better performance\n",
    "\n",
    "print(\"UMAP-reduced shape:\", X_umap.shape)"
   ]
  },
  {
   "cell_type": "code",
   "execution_count": null,
   "id": "04a72b1e-c333-423e-b530-724e15490d3e",
   "metadata": {},
   "outputs": [],
   "source": [
    "# Apply K-Means with the chosen K (assume K=6 for now)\n",
    "kmeans_umap = KMeans(n_clusters=K, random_state=123)\n",
    "y_kmeans_umap = kmeans_umap.fit_predict(X_umap)\n"
   ]
  },
  {
   "cell_type": "code",
   "execution_count": null,
   "id": "293b3f0e-fc78-4c32-a66c-d87765434326",
   "metadata": {},
   "outputs": [],
   "source": [
    "import matplotlib.pyplot as plt\n",
    "\n",
    "# Scatter plot of clusters in UMAP-reduced space\n",
    "plt.figure(figsize=(8, 6))\n",
    "plt.scatter(X_umap[:, 0], X_umap[:, 1], c=y_kmeans_umap, cmap='viridis', edgecolor='k', alpha=0.6)\n",
    "plt.xlabel('UMAP Component 1')\n",
    "plt.ylabel('UMAP Component 2')\n",
    "plt.title(f'K-Means Clustering with K={K} (UMAP-Reduced Data)')\n",
    "plt.colorbar(label=\"Cluster\")\n",
    "plt.show()\n"
   ]
  },
  {
   "cell_type": "code",
   "execution_count": null,
   "id": "77bbaac1-b44b-4253-9c45-77bb373a2181",
   "metadata": {},
   "outputs": [],
   "source": [
    "\"\"\"\n",
    "Analisar os CLusters: Estatisticas, visualizar e finalmente descrever\n",
    "\"\"\""
   ]
  }
 ],
 "metadata": {
  "kernelspec": {
   "display_name": "DM2425",
   "language": "python",
   "name": "python3"
  },
  "language_info": {
   "codemirror_mode": {
    "name": "ipython",
    "version": 3
   },
   "file_extension": ".py",
   "mimetype": "text/x-python",
   "name": "python",
   "nbconvert_exporter": "python",
   "pygments_lexer": "ipython3",
   "version": "3.12.7"
  }
 },
 "nbformat": 4,
 "nbformat_minor": 5
}
